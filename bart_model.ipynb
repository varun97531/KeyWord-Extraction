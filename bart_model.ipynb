{
  "cells": [
    {
      "cell_type": "markdown",
      "id": "7e4aaf6c",
      "metadata": {
        "papermill": {
          "duration": 0.009876,
          "end_time": "2023-11-28T11:30:05.465646",
          "exception": false,
          "start_time": "2023-11-28T11:30:05.455770",
          "status": "completed"
        },
        "tags": [],
        "id": "7e4aaf6c"
      },
      "source": [
        "### Importing Libraries"
      ]
    },
    {
      "cell_type": "code",
      "execution_count": 1,
      "id": "c39261bf",
      "metadata": {
        "execution": {
          "iopub.execute_input": "2023-11-28T11:30:05.486490Z",
          "iopub.status.busy": "2023-11-28T11:30:05.485694Z",
          "iopub.status.idle": "2023-11-28T11:30:11.204445Z",
          "shell.execute_reply": "2023-11-28T11:30:11.203557Z"
        },
        "papermill": {
          "duration": 5.731862,
          "end_time": "2023-11-28T11:30:11.206966",
          "exception": false,
          "start_time": "2023-11-28T11:30:05.475104",
          "status": "completed"
        },
        "tags": [],
        "id": "c39261bf"
      },
      "outputs": [],
      "source": [
        "import numpy as np\n",
        "import pandas as pd\n",
        "import matplotlib.pyplot as plt\n",
        "import seaborn as sns\n",
        "import torch\n",
        "from torch.optim import Adam\n",
        "from torch.utils.data import Dataset, DataLoader"
      ]
    },
    {
      "cell_type": "code",
      "source": [
        "from google.colab import drive\n",
        "drive.mount('/content/drive')\n",
        "\n",
        "path = '/content/drive/My Drive/mtsamples.csv'"
      ],
      "metadata": {
        "colab": {
          "base_uri": "https://localhost:8080/"
        },
        "id": "oOibUAhccsen",
        "outputId": "ddb84c5f-768e-4459-8f82-2304ebfb29bb"
      },
      "id": "oOibUAhccsen",
      "execution_count": 2,
      "outputs": [
        {
          "output_type": "stream",
          "name": "stdout",
          "text": [
            "Mounted at /content/drive\n"
          ]
        }
      ]
    },
    {
      "cell_type": "markdown",
      "id": "50f96dfe",
      "metadata": {
        "papermill": {
          "duration": 0.010228,
          "end_time": "2023-11-28T11:30:11.228705",
          "exception": false,
          "start_time": "2023-11-28T11:30:11.218477",
          "status": "completed"
        },
        "tags": [],
        "id": "50f96dfe"
      },
      "source": [
        "### Loading Dataset\n",
        "\n",
        "\n",
        "\n"
      ]
    },
    {
      "cell_type": "code",
      "execution_count": 4,
      "id": "dc271483",
      "metadata": {
        "execution": {
          "iopub.execute_input": "2023-11-28T11:30:11.249975Z",
          "iopub.status.busy": "2023-11-28T11:30:11.249420Z",
          "iopub.status.idle": "2023-11-28T11:30:11.618495Z",
          "shell.execute_reply": "2023-11-28T11:30:11.617488Z"
        },
        "papermill": {
          "duration": 0.382386,
          "end_time": "2023-11-28T11:30:11.621059",
          "exception": false,
          "start_time": "2023-11-28T11:30:11.238673",
          "status": "completed"
        },
        "tags": [],
        "colab": {
          "base_uri": "https://localhost:8080/",
          "height": 310
        },
        "id": "dc271483",
        "outputId": "fdb4095c-d93e-4b38-8c34-3d79cc171c40"
      },
      "outputs": [
        {
          "output_type": "execute_result",
          "data": {
            "text/plain": [
              "   Unnamed: 0                                        description  \\\n",
              "0           0   A 23-year-old white female presents with comp...   \n",
              "1           1           Consult for laparoscopic gastric bypass.   \n",
              "2           2           Consult for laparoscopic gastric bypass.   \n",
              "3           3                             2-D M-Mode. Doppler.     \n",
              "4           4                                 2-D Echocardiogram   \n",
              "\n",
              "             medical_specialty                                sample_name  \\\n",
              "0         Allergy / Immunology                         Allergic Rhinitis    \n",
              "1                   Bariatrics   Laparoscopic Gastric Bypass Consult - 2    \n",
              "2                   Bariatrics   Laparoscopic Gastric Bypass Consult - 1    \n",
              "3   Cardiovascular / Pulmonary                    2-D Echocardiogram - 1    \n",
              "4   Cardiovascular / Pulmonary                    2-D Echocardiogram - 2    \n",
              "\n",
              "                                       transcription  \\\n",
              "0  SUBJECTIVE:,  This 23-year-old white female pr...   \n",
              "1  PAST MEDICAL HISTORY:, He has difficulty climb...   \n",
              "2  HISTORY OF PRESENT ILLNESS: , I have seen ABC ...   \n",
              "3  2-D M-MODE: , ,1.  Left atrial enlargement wit...   \n",
              "4  1.  The left ventricular cavity size and wall ...   \n",
              "\n",
              "                                            keywords  \n",
              "0  allergy / immunology, allergic rhinitis, aller...  \n",
              "1  bariatrics, laparoscopic gastric bypass, weigh...  \n",
              "2  bariatrics, laparoscopic gastric bypass, heart...  \n",
              "3  cardiovascular / pulmonary, 2-d m-mode, dopple...  \n",
              "4  cardiovascular / pulmonary, 2-d, doppler, echo...  "
            ],
            "text/html": [
              "\n",
              "  <div id=\"df-6fbc82ad-20bc-4359-a601-4b8f1cb6897e\" class=\"colab-df-container\">\n",
              "    <div>\n",
              "<style scoped>\n",
              "    .dataframe tbody tr th:only-of-type {\n",
              "        vertical-align: middle;\n",
              "    }\n",
              "\n",
              "    .dataframe tbody tr th {\n",
              "        vertical-align: top;\n",
              "    }\n",
              "\n",
              "    .dataframe thead th {\n",
              "        text-align: right;\n",
              "    }\n",
              "</style>\n",
              "<table border=\"1\" class=\"dataframe\">\n",
              "  <thead>\n",
              "    <tr style=\"text-align: right;\">\n",
              "      <th></th>\n",
              "      <th>Unnamed: 0</th>\n",
              "      <th>description</th>\n",
              "      <th>medical_specialty</th>\n",
              "      <th>sample_name</th>\n",
              "      <th>transcription</th>\n",
              "      <th>keywords</th>\n",
              "    </tr>\n",
              "  </thead>\n",
              "  <tbody>\n",
              "    <tr>\n",
              "      <th>0</th>\n",
              "      <td>0</td>\n",
              "      <td>A 23-year-old white female presents with comp...</td>\n",
              "      <td>Allergy / Immunology</td>\n",
              "      <td>Allergic Rhinitis</td>\n",
              "      <td>SUBJECTIVE:,  This 23-year-old white female pr...</td>\n",
              "      <td>allergy / immunology, allergic rhinitis, aller...</td>\n",
              "    </tr>\n",
              "    <tr>\n",
              "      <th>1</th>\n",
              "      <td>1</td>\n",
              "      <td>Consult for laparoscopic gastric bypass.</td>\n",
              "      <td>Bariatrics</td>\n",
              "      <td>Laparoscopic Gastric Bypass Consult - 2</td>\n",
              "      <td>PAST MEDICAL HISTORY:, He has difficulty climb...</td>\n",
              "      <td>bariatrics, laparoscopic gastric bypass, weigh...</td>\n",
              "    </tr>\n",
              "    <tr>\n",
              "      <th>2</th>\n",
              "      <td>2</td>\n",
              "      <td>Consult for laparoscopic gastric bypass.</td>\n",
              "      <td>Bariatrics</td>\n",
              "      <td>Laparoscopic Gastric Bypass Consult - 1</td>\n",
              "      <td>HISTORY OF PRESENT ILLNESS: , I have seen ABC ...</td>\n",
              "      <td>bariatrics, laparoscopic gastric bypass, heart...</td>\n",
              "    </tr>\n",
              "    <tr>\n",
              "      <th>3</th>\n",
              "      <td>3</td>\n",
              "      <td>2-D M-Mode. Doppler.</td>\n",
              "      <td>Cardiovascular / Pulmonary</td>\n",
              "      <td>2-D Echocardiogram - 1</td>\n",
              "      <td>2-D M-MODE: , ,1.  Left atrial enlargement wit...</td>\n",
              "      <td>cardiovascular / pulmonary, 2-d m-mode, dopple...</td>\n",
              "    </tr>\n",
              "    <tr>\n",
              "      <th>4</th>\n",
              "      <td>4</td>\n",
              "      <td>2-D Echocardiogram</td>\n",
              "      <td>Cardiovascular / Pulmonary</td>\n",
              "      <td>2-D Echocardiogram - 2</td>\n",
              "      <td>1.  The left ventricular cavity size and wall ...</td>\n",
              "      <td>cardiovascular / pulmonary, 2-d, doppler, echo...</td>\n",
              "    </tr>\n",
              "  </tbody>\n",
              "</table>\n",
              "</div>\n",
              "    <div class=\"colab-df-buttons\">\n",
              "\n",
              "  <div class=\"colab-df-container\">\n",
              "    <button class=\"colab-df-convert\" onclick=\"convertToInteractive('df-6fbc82ad-20bc-4359-a601-4b8f1cb6897e')\"\n",
              "            title=\"Convert this dataframe to an interactive table.\"\n",
              "            style=\"display:none;\">\n",
              "\n",
              "  <svg xmlns=\"http://www.w3.org/2000/svg\" height=\"24px\" viewBox=\"0 -960 960 960\">\n",
              "    <path d=\"M120-120v-720h720v720H120Zm60-500h600v-160H180v160Zm220 220h160v-160H400v160Zm0 220h160v-160H400v160ZM180-400h160v-160H180v160Zm440 0h160v-160H620v160ZM180-180h160v-160H180v160Zm440 0h160v-160H620v160Z\"/>\n",
              "  </svg>\n",
              "    </button>\n",
              "\n",
              "  <style>\n",
              "    .colab-df-container {\n",
              "      display:flex;\n",
              "      gap: 12px;\n",
              "    }\n",
              "\n",
              "    .colab-df-convert {\n",
              "      background-color: #E8F0FE;\n",
              "      border: none;\n",
              "      border-radius: 50%;\n",
              "      cursor: pointer;\n",
              "      display: none;\n",
              "      fill: #1967D2;\n",
              "      height: 32px;\n",
              "      padding: 0 0 0 0;\n",
              "      width: 32px;\n",
              "    }\n",
              "\n",
              "    .colab-df-convert:hover {\n",
              "      background-color: #E2EBFA;\n",
              "      box-shadow: 0px 1px 2px rgba(60, 64, 67, 0.3), 0px 1px 3px 1px rgba(60, 64, 67, 0.15);\n",
              "      fill: #174EA6;\n",
              "    }\n",
              "\n",
              "    .colab-df-buttons div {\n",
              "      margin-bottom: 4px;\n",
              "    }\n",
              "\n",
              "    [theme=dark] .colab-df-convert {\n",
              "      background-color: #3B4455;\n",
              "      fill: #D2E3FC;\n",
              "    }\n",
              "\n",
              "    [theme=dark] .colab-df-convert:hover {\n",
              "      background-color: #434B5C;\n",
              "      box-shadow: 0px 1px 3px 1px rgba(0, 0, 0, 0.15);\n",
              "      filter: drop-shadow(0px 1px 2px rgba(0, 0, 0, 0.3));\n",
              "      fill: #FFFFFF;\n",
              "    }\n",
              "  </style>\n",
              "\n",
              "    <script>\n",
              "      const buttonEl =\n",
              "        document.querySelector('#df-6fbc82ad-20bc-4359-a601-4b8f1cb6897e button.colab-df-convert');\n",
              "      buttonEl.style.display =\n",
              "        google.colab.kernel.accessAllowed ? 'block' : 'none';\n",
              "\n",
              "      async function convertToInteractive(key) {\n",
              "        const element = document.querySelector('#df-6fbc82ad-20bc-4359-a601-4b8f1cb6897e');\n",
              "        const dataTable =\n",
              "          await google.colab.kernel.invokeFunction('convertToInteractive',\n",
              "                                                    [key], {});\n",
              "        if (!dataTable) return;\n",
              "\n",
              "        const docLinkHtml = 'Like what you see? Visit the ' +\n",
              "          '<a target=\"_blank\" href=https://colab.research.google.com/notebooks/data_table.ipynb>data table notebook</a>'\n",
              "          + ' to learn more about interactive tables.';\n",
              "        element.innerHTML = '';\n",
              "        dataTable['output_type'] = 'display_data';\n",
              "        await google.colab.output.renderOutput(dataTable, element);\n",
              "        const docLink = document.createElement('div');\n",
              "        docLink.innerHTML = docLinkHtml;\n",
              "        element.appendChild(docLink);\n",
              "      }\n",
              "    </script>\n",
              "  </div>\n",
              "\n",
              "\n",
              "<div id=\"df-257874d4-8ff5-45e6-96d9-40741a80eb88\">\n",
              "  <button class=\"colab-df-quickchart\" onclick=\"quickchart('df-257874d4-8ff5-45e6-96d9-40741a80eb88')\"\n",
              "            title=\"Suggest charts\"\n",
              "            style=\"display:none;\">\n",
              "\n",
              "<svg xmlns=\"http://www.w3.org/2000/svg\" height=\"24px\"viewBox=\"0 0 24 24\"\n",
              "     width=\"24px\">\n",
              "    <g>\n",
              "        <path d=\"M19 3H5c-1.1 0-2 .9-2 2v14c0 1.1.9 2 2 2h14c1.1 0 2-.9 2-2V5c0-1.1-.9-2-2-2zM9 17H7v-7h2v7zm4 0h-2V7h2v10zm4 0h-2v-4h2v4z\"/>\n",
              "    </g>\n",
              "</svg>\n",
              "  </button>\n",
              "\n",
              "<style>\n",
              "  .colab-df-quickchart {\n",
              "      --bg-color: #E8F0FE;\n",
              "      --fill-color: #1967D2;\n",
              "      --hover-bg-color: #E2EBFA;\n",
              "      --hover-fill-color: #174EA6;\n",
              "      --disabled-fill-color: #AAA;\n",
              "      --disabled-bg-color: #DDD;\n",
              "  }\n",
              "\n",
              "  [theme=dark] .colab-df-quickchart {\n",
              "      --bg-color: #3B4455;\n",
              "      --fill-color: #D2E3FC;\n",
              "      --hover-bg-color: #434B5C;\n",
              "      --hover-fill-color: #FFFFFF;\n",
              "      --disabled-bg-color: #3B4455;\n",
              "      --disabled-fill-color: #666;\n",
              "  }\n",
              "\n",
              "  .colab-df-quickchart {\n",
              "    background-color: var(--bg-color);\n",
              "    border: none;\n",
              "    border-radius: 50%;\n",
              "    cursor: pointer;\n",
              "    display: none;\n",
              "    fill: var(--fill-color);\n",
              "    height: 32px;\n",
              "    padding: 0;\n",
              "    width: 32px;\n",
              "  }\n",
              "\n",
              "  .colab-df-quickchart:hover {\n",
              "    background-color: var(--hover-bg-color);\n",
              "    box-shadow: 0 1px 2px rgba(60, 64, 67, 0.3), 0 1px 3px 1px rgba(60, 64, 67, 0.15);\n",
              "    fill: var(--button-hover-fill-color);\n",
              "  }\n",
              "\n",
              "  .colab-df-quickchart-complete:disabled,\n",
              "  .colab-df-quickchart-complete:disabled:hover {\n",
              "    background-color: var(--disabled-bg-color);\n",
              "    fill: var(--disabled-fill-color);\n",
              "    box-shadow: none;\n",
              "  }\n",
              "\n",
              "  .colab-df-spinner {\n",
              "    border: 2px solid var(--fill-color);\n",
              "    border-color: transparent;\n",
              "    border-bottom-color: var(--fill-color);\n",
              "    animation:\n",
              "      spin 1s steps(1) infinite;\n",
              "  }\n",
              "\n",
              "  @keyframes spin {\n",
              "    0% {\n",
              "      border-color: transparent;\n",
              "      border-bottom-color: var(--fill-color);\n",
              "      border-left-color: var(--fill-color);\n",
              "    }\n",
              "    20% {\n",
              "      border-color: transparent;\n",
              "      border-left-color: var(--fill-color);\n",
              "      border-top-color: var(--fill-color);\n",
              "    }\n",
              "    30% {\n",
              "      border-color: transparent;\n",
              "      border-left-color: var(--fill-color);\n",
              "      border-top-color: var(--fill-color);\n",
              "      border-right-color: var(--fill-color);\n",
              "    }\n",
              "    40% {\n",
              "      border-color: transparent;\n",
              "      border-right-color: var(--fill-color);\n",
              "      border-top-color: var(--fill-color);\n",
              "    }\n",
              "    60% {\n",
              "      border-color: transparent;\n",
              "      border-right-color: var(--fill-color);\n",
              "    }\n",
              "    80% {\n",
              "      border-color: transparent;\n",
              "      border-right-color: var(--fill-color);\n",
              "      border-bottom-color: var(--fill-color);\n",
              "    }\n",
              "    90% {\n",
              "      border-color: transparent;\n",
              "      border-bottom-color: var(--fill-color);\n",
              "    }\n",
              "  }\n",
              "</style>\n",
              "\n",
              "  <script>\n",
              "    async function quickchart(key) {\n",
              "      const quickchartButtonEl =\n",
              "        document.querySelector('#' + key + ' button');\n",
              "      quickchartButtonEl.disabled = true;  // To prevent multiple clicks.\n",
              "      quickchartButtonEl.classList.add('colab-df-spinner');\n",
              "      try {\n",
              "        const charts = await google.colab.kernel.invokeFunction(\n",
              "            'suggestCharts', [key], {});\n",
              "      } catch (error) {\n",
              "        console.error('Error during call to suggestCharts:', error);\n",
              "      }\n",
              "      quickchartButtonEl.classList.remove('colab-df-spinner');\n",
              "      quickchartButtonEl.classList.add('colab-df-quickchart-complete');\n",
              "    }\n",
              "    (() => {\n",
              "      let quickchartButtonEl =\n",
              "        document.querySelector('#df-257874d4-8ff5-45e6-96d9-40741a80eb88 button');\n",
              "      quickchartButtonEl.style.display =\n",
              "        google.colab.kernel.accessAllowed ? 'block' : 'none';\n",
              "    })();\n",
              "  </script>\n",
              "</div>\n",
              "\n",
              "    </div>\n",
              "  </div>\n"
            ]
          },
          "metadata": {},
          "execution_count": 4
        }
      ],
      "source": [
        "dataframe = pd.read_csv(path)\n",
        "dataframe.head()"
      ]
    },
    {
      "cell_type": "code",
      "execution_count": 5,
      "id": "a16037fb",
      "metadata": {
        "execution": {
          "iopub.execute_input": "2023-11-28T11:30:11.643064Z",
          "iopub.status.busy": "2023-11-28T11:30:11.642730Z",
          "iopub.status.idle": "2023-11-28T11:30:11.648471Z",
          "shell.execute_reply": "2023-11-28T11:30:11.647620Z"
        },
        "papermill": {
          "duration": 0.018115,
          "end_time": "2023-11-28T11:30:11.650426",
          "exception": false,
          "start_time": "2023-11-28T11:30:11.632311",
          "status": "completed"
        },
        "tags": [],
        "colab": {
          "base_uri": "https://localhost:8080/"
        },
        "id": "a16037fb",
        "outputId": "99d44f10-19fd-410d-c8ab-a4d8d0e5f7be"
      },
      "outputs": [
        {
          "output_type": "execute_result",
          "data": {
            "text/plain": [
              "4999"
            ]
          },
          "metadata": {},
          "execution_count": 5
        }
      ],
      "source": [
        "len(dataframe)"
      ]
    },
    {
      "cell_type": "markdown",
      "id": "5e24172c",
      "metadata": {
        "papermill": {
          "duration": 0.009236,
          "end_time": "2023-11-28T11:30:11.669414",
          "exception": false,
          "start_time": "2023-11-28T11:30:11.660178",
          "status": "completed"
        },
        "tags": [],
        "id": "5e24172c"
      },
      "source": [
        "### Using important columns\n",
        "\n"
      ]
    },
    {
      "cell_type": "code",
      "execution_count": 10,
      "id": "1ea4b0d1",
      "metadata": {
        "execution": {
          "iopub.execute_input": "2023-11-28T11:30:11.689720Z",
          "iopub.status.busy": "2023-11-28T11:30:11.689392Z",
          "iopub.status.idle": "2023-11-28T11:30:11.711253Z",
          "shell.execute_reply": "2023-11-28T11:30:11.710409Z"
        },
        "papermill": {
          "duration": 0.034275,
          "end_time": "2023-11-28T11:30:11.713235",
          "exception": false,
          "start_time": "2023-11-28T11:30:11.678960",
          "status": "completed"
        },
        "tags": [],
        "colab": {
          "base_uri": "https://localhost:8080/",
          "height": 206
        },
        "id": "1ea4b0d1",
        "outputId": "a2767e25-a192-4b8b-8057-508934b23b8e"
      },
      "outputs": [
        {
          "output_type": "execute_result",
          "data": {
            "text/plain": [
              "                                       transcription  \\\n",
              "0  SUBJECTIVE:,  This 23-year-old white female pr...   \n",
              "1  PAST MEDICAL HISTORY:, He has difficulty climb...   \n",
              "2  HISTORY OF PRESENT ILLNESS: , I have seen ABC ...   \n",
              "3  2-D M-MODE: , ,1.  Left atrial enlargement wit...   \n",
              "4  1.  The left ventricular cavity size and wall ...   \n",
              "\n",
              "                                            keywords  \n",
              "0  allergy / immunology, allergic rhinitis, aller...  \n",
              "1  bariatrics, laparoscopic gastric bypass, weigh...  \n",
              "2  bariatrics, laparoscopic gastric bypass, heart...  \n",
              "3  cardiovascular / pulmonary, 2-d m-mode, dopple...  \n",
              "4  cardiovascular / pulmonary, 2-d, doppler, echo...  "
            ],
            "text/html": [
              "\n",
              "  <div id=\"df-d760203a-288f-4903-a5ac-e80a67d789b4\" class=\"colab-df-container\">\n",
              "    <div>\n",
              "<style scoped>\n",
              "    .dataframe tbody tr th:only-of-type {\n",
              "        vertical-align: middle;\n",
              "    }\n",
              "\n",
              "    .dataframe tbody tr th {\n",
              "        vertical-align: top;\n",
              "    }\n",
              "\n",
              "    .dataframe thead th {\n",
              "        text-align: right;\n",
              "    }\n",
              "</style>\n",
              "<table border=\"1\" class=\"dataframe\">\n",
              "  <thead>\n",
              "    <tr style=\"text-align: right;\">\n",
              "      <th></th>\n",
              "      <th>transcription</th>\n",
              "      <th>keywords</th>\n",
              "    </tr>\n",
              "  </thead>\n",
              "  <tbody>\n",
              "    <tr>\n",
              "      <th>0</th>\n",
              "      <td>SUBJECTIVE:,  This 23-year-old white female pr...</td>\n",
              "      <td>allergy / immunology, allergic rhinitis, aller...</td>\n",
              "    </tr>\n",
              "    <tr>\n",
              "      <th>1</th>\n",
              "      <td>PAST MEDICAL HISTORY:, He has difficulty climb...</td>\n",
              "      <td>bariatrics, laparoscopic gastric bypass, weigh...</td>\n",
              "    </tr>\n",
              "    <tr>\n",
              "      <th>2</th>\n",
              "      <td>HISTORY OF PRESENT ILLNESS: , I have seen ABC ...</td>\n",
              "      <td>bariatrics, laparoscopic gastric bypass, heart...</td>\n",
              "    </tr>\n",
              "    <tr>\n",
              "      <th>3</th>\n",
              "      <td>2-D M-MODE: , ,1.  Left atrial enlargement wit...</td>\n",
              "      <td>cardiovascular / pulmonary, 2-d m-mode, dopple...</td>\n",
              "    </tr>\n",
              "    <tr>\n",
              "      <th>4</th>\n",
              "      <td>1.  The left ventricular cavity size and wall ...</td>\n",
              "      <td>cardiovascular / pulmonary, 2-d, doppler, echo...</td>\n",
              "    </tr>\n",
              "  </tbody>\n",
              "</table>\n",
              "</div>\n",
              "    <div class=\"colab-df-buttons\">\n",
              "\n",
              "  <div class=\"colab-df-container\">\n",
              "    <button class=\"colab-df-convert\" onclick=\"convertToInteractive('df-d760203a-288f-4903-a5ac-e80a67d789b4')\"\n",
              "            title=\"Convert this dataframe to an interactive table.\"\n",
              "            style=\"display:none;\">\n",
              "\n",
              "  <svg xmlns=\"http://www.w3.org/2000/svg\" height=\"24px\" viewBox=\"0 -960 960 960\">\n",
              "    <path d=\"M120-120v-720h720v720H120Zm60-500h600v-160H180v160Zm220 220h160v-160H400v160Zm0 220h160v-160H400v160ZM180-400h160v-160H180v160Zm440 0h160v-160H620v160ZM180-180h160v-160H180v160Zm440 0h160v-160H620v160Z\"/>\n",
              "  </svg>\n",
              "    </button>\n",
              "\n",
              "  <style>\n",
              "    .colab-df-container {\n",
              "      display:flex;\n",
              "      gap: 12px;\n",
              "    }\n",
              "\n",
              "    .colab-df-convert {\n",
              "      background-color: #E8F0FE;\n",
              "      border: none;\n",
              "      border-radius: 50%;\n",
              "      cursor: pointer;\n",
              "      display: none;\n",
              "      fill: #1967D2;\n",
              "      height: 32px;\n",
              "      padding: 0 0 0 0;\n",
              "      width: 32px;\n",
              "    }\n",
              "\n",
              "    .colab-df-convert:hover {\n",
              "      background-color: #E2EBFA;\n",
              "      box-shadow: 0px 1px 2px rgba(60, 64, 67, 0.3), 0px 1px 3px 1px rgba(60, 64, 67, 0.15);\n",
              "      fill: #174EA6;\n",
              "    }\n",
              "\n",
              "    .colab-df-buttons div {\n",
              "      margin-bottom: 4px;\n",
              "    }\n",
              "\n",
              "    [theme=dark] .colab-df-convert {\n",
              "      background-color: #3B4455;\n",
              "      fill: #D2E3FC;\n",
              "    }\n",
              "\n",
              "    [theme=dark] .colab-df-convert:hover {\n",
              "      background-color: #434B5C;\n",
              "      box-shadow: 0px 1px 3px 1px rgba(0, 0, 0, 0.15);\n",
              "      filter: drop-shadow(0px 1px 2px rgba(0, 0, 0, 0.3));\n",
              "      fill: #FFFFFF;\n",
              "    }\n",
              "  </style>\n",
              "\n",
              "    <script>\n",
              "      const buttonEl =\n",
              "        document.querySelector('#df-d760203a-288f-4903-a5ac-e80a67d789b4 button.colab-df-convert');\n",
              "      buttonEl.style.display =\n",
              "        google.colab.kernel.accessAllowed ? 'block' : 'none';\n",
              "\n",
              "      async function convertToInteractive(key) {\n",
              "        const element = document.querySelector('#df-d760203a-288f-4903-a5ac-e80a67d789b4');\n",
              "        const dataTable =\n",
              "          await google.colab.kernel.invokeFunction('convertToInteractive',\n",
              "                                                    [key], {});\n",
              "        if (!dataTable) return;\n",
              "\n",
              "        const docLinkHtml = 'Like what you see? Visit the ' +\n",
              "          '<a target=\"_blank\" href=https://colab.research.google.com/notebooks/data_table.ipynb>data table notebook</a>'\n",
              "          + ' to learn more about interactive tables.';\n",
              "        element.innerHTML = '';\n",
              "        dataTable['output_type'] = 'display_data';\n",
              "        await google.colab.output.renderOutput(dataTable, element);\n",
              "        const docLink = document.createElement('div');\n",
              "        docLink.innerHTML = docLinkHtml;\n",
              "        element.appendChild(docLink);\n",
              "      }\n",
              "    </script>\n",
              "  </div>\n",
              "\n",
              "\n",
              "<div id=\"df-a8519075-5550-4c0b-b565-91163ce58c97\">\n",
              "  <button class=\"colab-df-quickchart\" onclick=\"quickchart('df-a8519075-5550-4c0b-b565-91163ce58c97')\"\n",
              "            title=\"Suggest charts\"\n",
              "            style=\"display:none;\">\n",
              "\n",
              "<svg xmlns=\"http://www.w3.org/2000/svg\" height=\"24px\"viewBox=\"0 0 24 24\"\n",
              "     width=\"24px\">\n",
              "    <g>\n",
              "        <path d=\"M19 3H5c-1.1 0-2 .9-2 2v14c0 1.1.9 2 2 2h14c1.1 0 2-.9 2-2V5c0-1.1-.9-2-2-2zM9 17H7v-7h2v7zm4 0h-2V7h2v10zm4 0h-2v-4h2v4z\"/>\n",
              "    </g>\n",
              "</svg>\n",
              "  </button>\n",
              "\n",
              "<style>\n",
              "  .colab-df-quickchart {\n",
              "      --bg-color: #E8F0FE;\n",
              "      --fill-color: #1967D2;\n",
              "      --hover-bg-color: #E2EBFA;\n",
              "      --hover-fill-color: #174EA6;\n",
              "      --disabled-fill-color: #AAA;\n",
              "      --disabled-bg-color: #DDD;\n",
              "  }\n",
              "\n",
              "  [theme=dark] .colab-df-quickchart {\n",
              "      --bg-color: #3B4455;\n",
              "      --fill-color: #D2E3FC;\n",
              "      --hover-bg-color: #434B5C;\n",
              "      --hover-fill-color: #FFFFFF;\n",
              "      --disabled-bg-color: #3B4455;\n",
              "      --disabled-fill-color: #666;\n",
              "  }\n",
              "\n",
              "  .colab-df-quickchart {\n",
              "    background-color: var(--bg-color);\n",
              "    border: none;\n",
              "    border-radius: 50%;\n",
              "    cursor: pointer;\n",
              "    display: none;\n",
              "    fill: var(--fill-color);\n",
              "    height: 32px;\n",
              "    padding: 0;\n",
              "    width: 32px;\n",
              "  }\n",
              "\n",
              "  .colab-df-quickchart:hover {\n",
              "    background-color: var(--hover-bg-color);\n",
              "    box-shadow: 0 1px 2px rgba(60, 64, 67, 0.3), 0 1px 3px 1px rgba(60, 64, 67, 0.15);\n",
              "    fill: var(--button-hover-fill-color);\n",
              "  }\n",
              "\n",
              "  .colab-df-quickchart-complete:disabled,\n",
              "  .colab-df-quickchart-complete:disabled:hover {\n",
              "    background-color: var(--disabled-bg-color);\n",
              "    fill: var(--disabled-fill-color);\n",
              "    box-shadow: none;\n",
              "  }\n",
              "\n",
              "  .colab-df-spinner {\n",
              "    border: 2px solid var(--fill-color);\n",
              "    border-color: transparent;\n",
              "    border-bottom-color: var(--fill-color);\n",
              "    animation:\n",
              "      spin 1s steps(1) infinite;\n",
              "  }\n",
              "\n",
              "  @keyframes spin {\n",
              "    0% {\n",
              "      border-color: transparent;\n",
              "      border-bottom-color: var(--fill-color);\n",
              "      border-left-color: var(--fill-color);\n",
              "    }\n",
              "    20% {\n",
              "      border-color: transparent;\n",
              "      border-left-color: var(--fill-color);\n",
              "      border-top-color: var(--fill-color);\n",
              "    }\n",
              "    30% {\n",
              "      border-color: transparent;\n",
              "      border-left-color: var(--fill-color);\n",
              "      border-top-color: var(--fill-color);\n",
              "      border-right-color: var(--fill-color);\n",
              "    }\n",
              "    40% {\n",
              "      border-color: transparent;\n",
              "      border-right-color: var(--fill-color);\n",
              "      border-top-color: var(--fill-color);\n",
              "    }\n",
              "    60% {\n",
              "      border-color: transparent;\n",
              "      border-right-color: var(--fill-color);\n",
              "    }\n",
              "    80% {\n",
              "      border-color: transparent;\n",
              "      border-right-color: var(--fill-color);\n",
              "      border-bottom-color: var(--fill-color);\n",
              "    }\n",
              "    90% {\n",
              "      border-color: transparent;\n",
              "      border-bottom-color: var(--fill-color);\n",
              "    }\n",
              "  }\n",
              "</style>\n",
              "\n",
              "  <script>\n",
              "    async function quickchart(key) {\n",
              "      const quickchartButtonEl =\n",
              "        document.querySelector('#' + key + ' button');\n",
              "      quickchartButtonEl.disabled = true;  // To prevent multiple clicks.\n",
              "      quickchartButtonEl.classList.add('colab-df-spinner');\n",
              "      try {\n",
              "        const charts = await google.colab.kernel.invokeFunction(\n",
              "            'suggestCharts', [key], {});\n",
              "      } catch (error) {\n",
              "        console.error('Error during call to suggestCharts:', error);\n",
              "      }\n",
              "      quickchartButtonEl.classList.remove('colab-df-spinner');\n",
              "      quickchartButtonEl.classList.add('colab-df-quickchart-complete');\n",
              "    }\n",
              "    (() => {\n",
              "      let quickchartButtonEl =\n",
              "        document.querySelector('#df-a8519075-5550-4c0b-b565-91163ce58c97 button');\n",
              "      quickchartButtonEl.style.display =\n",
              "        google.colab.kernel.accessAllowed ? 'block' : 'none';\n",
              "    })();\n",
              "  </script>\n",
              "</div>\n",
              "\n",
              "    </div>\n",
              "  </div>\n"
            ]
          },
          "metadata": {},
          "execution_count": 10
        }
      ],
      "source": [
        "dataframe = dataframe.loc[:,[\"transcription\", \"keywords\"]]\n",
        "dataframe.head()"
      ]
    },
    {
      "cell_type": "code",
      "execution_count": 11,
      "id": "904df3ba",
      "metadata": {
        "execution": {
          "iopub.execute_input": "2023-11-28T11:30:11.804004Z",
          "iopub.status.busy": "2023-11-28T11:30:11.803731Z",
          "iopub.status.idle": "2023-11-28T11:30:11.812396Z",
          "shell.execute_reply": "2023-11-28T11:30:11.811462Z"
        },
        "papermill": {
          "duration": 0.021452,
          "end_time": "2023-11-28T11:30:11.814613",
          "exception": false,
          "start_time": "2023-11-28T11:30:11.793161",
          "status": "completed"
        },
        "tags": [],
        "colab": {
          "base_uri": "https://localhost:8080/"
        },
        "id": "904df3ba",
        "outputId": "02db1882-eb2e-4fd8-f40f-0ada615cc033"
      },
      "outputs": [
        {
          "output_type": "execute_result",
          "data": {
            "text/plain": [
              "(3898, 2)"
            ]
          },
          "metadata": {},
          "execution_count": 11
        }
      ],
      "source": [
        "dataframe = dataframe.dropna(subset=['transcription', 'keywords'], how='any')\n",
        "\n",
        "dataframe.shape"
      ]
    },
    {
      "cell_type": "markdown",
      "id": "677f3152",
      "metadata": {
        "papermill": {
          "duration": 0.009496,
          "end_time": "2023-11-28T11:30:11.835731",
          "exception": false,
          "start_time": "2023-11-28T11:30:11.826235",
          "status": "completed"
        },
        "tags": [],
        "id": "677f3152"
      },
      "source": [
        "### Let us see the length of input and output"
      ]
    },
    {
      "cell_type": "code",
      "execution_count": 14,
      "id": "c8f636ab",
      "metadata": {
        "execution": {
          "iopub.execute_input": "2023-11-28T11:30:11.856880Z",
          "iopub.status.busy": "2023-11-28T11:30:11.856607Z",
          "iopub.status.idle": "2023-11-28T11:30:12.477787Z",
          "shell.execute_reply": "2023-11-28T11:30:12.476836Z"
        },
        "papermill": {
          "duration": 0.634386,
          "end_time": "2023-11-28T11:30:12.480464",
          "exception": false,
          "start_time": "2023-11-28T11:30:11.846078",
          "status": "completed"
        },
        "tags": [],
        "colab": {
          "base_uri": "https://localhost:8080/",
          "height": 507
        },
        "id": "c8f636ab",
        "outputId": "7e97b78c-5a23-4ba2-cd97-c77f3ebede44"
      },
      "outputs": [
        {
          "output_type": "stream",
          "name": "stdout",
          "text": [
            "Max Length :  2008\n",
            "Min Length :  1\n"
          ]
        },
        {
          "output_type": "display_data",
          "data": {
            "text/plain": [
              "<Figure size 640x480 with 1 Axes>"
            ],
            "image/png": "[encoded data removed]"
          },
          "metadata": {}
        }
      ],
      "source": [
        "word_lengths = []\n",
        "\n",
        "\n",
        "for sent in dataframe['transcription']:\n",
        "    word_lengths.append(len(sent.split()))\n",
        "\n",
        "print(\"Max Length : \", max(word_lengths))\n",
        "print(\"Min Length : \", min(word_lengths))\n",
        "\n",
        "from collections import Counter\n",
        "frequency_map = Counter(word_lengths)\n",
        "\n",
        "# Sort the values and frequencies in ascending order\n",
        "sorted_values, sorted_frequencies = zip(*sorted(frequency_map.items()))\n",
        "\n",
        "# Plotting the sorted frequency map\n",
        "plt.bar(sorted_values, sorted_frequencies, color='blue')\n",
        "\n",
        "# Adding labels and title\n",
        "plt.xlabel('Number')\n",
        "plt.ylabel('Frequency')\n",
        "plt.title('Sorted Frequency Map of Numbers')\n",
        "\n",
        "# Display the plot\n",
        "plt.show()"
      ]
    },
    {
      "cell_type": "code",
      "source": [
        "word_lengths = []\n",
        "\n",
        "for sent in dataframe['keywords']:\n",
        "    word_lengths.append(len(sent.split()))\n",
        "\n",
        "print(\"Max Length : \", max(word_lengths))\n",
        "print(\"Min Length : \", min(word_lengths))\n",
        "\n",
        "from collections import Counter\n",
        "frequency_map = Counter(word_lengths)\n",
        "\n",
        "# Sort the values and frequencies in ascending order\n",
        "sorted_values, sorted_frequencies = zip(*sorted(frequency_map.items()))\n",
        "\n",
        "# Plotting the sorted frequency map\n",
        "plt.bar(sorted_values, sorted_frequencies, color='blue')\n",
        "\n",
        "# Adding labels and title\n",
        "plt.xlabel('Number')\n",
        "plt.ylabel('Frequency')\n",
        "plt.title('Sorted Frequency Map of Numbers')\n",
        "\n",
        "# Display the plot\n",
        "plt.show()"
      ],
      "metadata": {
        "colab": {
          "base_uri": "https://localhost:8080/",
          "height": 507
        },
        "id": "fgktkPmcxo2A",
        "outputId": "90441453-85fe-4ff1-d888-e1f16250dc83"
      },
      "id": "fgktkPmcxo2A",
      "execution_count": 15,
      "outputs": [
        {
          "output_type": "stream",
          "name": "stdout",
          "text": [
            "Max Length :  118\n",
            "Min Length :  0\n"
          ]
        },
        {
          "output_type": "display_data",
          "data": {
            "text/plain": [
              "<Figure size 640x480 with 1 Axes>"
            ],
            "image/png": "[encoded data removed]"
          },
          "metadata": {}
        }
      ]
    },
    {
      "cell_type": "code",
      "execution_count": 28,
      "id": "ae044d35",
      "metadata": {
        "execution": {
          "iopub.execute_input": "2023-11-28T11:30:13.071853Z",
          "iopub.status.busy": "2023-11-28T11:30:13.071527Z",
          "iopub.status.idle": "2023-11-28T11:30:44.296986Z",
          "shell.execute_reply": "2023-11-28T11:30:44.296032Z"
        },
        "papermill": {
          "duration": 31.242002,
          "end_time": "2023-11-28T11:30:44.299964",
          "exception": false,
          "start_time": "2023-11-28T11:30:13.057962",
          "status": "completed"
        },
        "tags": [],
        "id": "ae044d35"
      },
      "outputs": [],
      "source": [
        "!pip install accelerate bitsandbytes -q\n",
        "from transformers import BartForConditionalGeneration, AutoTokenizer\n",
        "\n",
        "tokenizer = AutoTokenizer.from_pretrained(\"facebook/bart-base\", padding_side=\"left\",\n",
        "                                         truncation_side='right')\n",
        "device = torch.device(\"cuda:0\" if torch.cuda.is_available() else \"cpu\")\n",
        "\n",
        "model = BartForConditionalGeneration.from_pretrained(\"facebook/bart-base\").to(device)"
      ]
    },
    {
      "cell_type": "markdown",
      "id": "a1ba73ab",
      "metadata": {
        "papermill": {
          "duration": 0.017202,
          "end_time": "2023-11-28T11:30:44.335089",
          "exception": false,
          "start_time": "2023-11-28T11:30:44.317887",
          "status": "completed"
        },
        "tags": [],
        "id": "a1ba73ab"
      },
      "source": [
        "### Create dataloader"
      ]
    },
    {
      "cell_type": "code",
      "source": [
        "class MedicalKeywordDataset(Dataset):\n",
        "    def __init__(self, df, tokenizer, max_length, final_length):\n",
        "        self.df = df\n",
        "        self.transcript = df['transcription']\n",
        "        self.keywords = df['keywords']\n",
        "        self.tokenizer = tokenizer\n",
        "        self.max_length = max_length\n",
        "        self.final_length = final_length\n",
        "\n",
        "    def __len__(self):\n",
        "        return self.df.shape[0]\n",
        "\n",
        "    def __getitem__(self, idx):\n",
        "        transcript_tokens = self.tokenizer(self.transcript.iloc[idx], padding='max_length', truncation=True, max_length=self.max_length, return_tensors='pt')['input_ids']\n",
        "        keyword_tokens = self.tokenizer(self.keywords.iloc[idx], padding=\"max_length\", truncation=True, max_length=self.final_length, return_tensors='pt')['input_ids']\n",
        "        # transcript_tokens = self.tokenizer(self.transcript.iloc[idx], padding='max_length', truncation=True, max_length=self.max_length, return_tensors='pt')\n",
        "        # keyword_tokens = self.tokenizer(self.keywords.iloc[idx], padding=\"max_length\", truncation=True, max_length=self.final_length, return_tensors='pt')\n",
        "\n",
        "        transcript_tokens = transcript_tokens.to(device)\n",
        "        keyword_tokens = keyword_tokens.to(device)\n",
        "\n",
        "        return transcript_tokens, keyword_tokens\n",
        "\n",
        "from sklearn.model_selection import train_test_split\n",
        "train, test = train_test_split(df, train_size=0.9, random_state=34)\n",
        "\n",
        "ds_train = MedicalKeywordDataset(train, tokenizer, 1000, 110)\n",
        "ds_test = MedicalKeywordDataset(test, tokenizer, 1000, 110)\n",
        "\n",
        "batch_size = 4\n",
        "dl_train = DataLoader(ds_train, batch_size=batch_size, shuffle=True)\n",
        "dl_test = DataLoader(ds_test, batch_size=batch_size, shuffle=True)"
      ],
      "metadata": {
        "id": "H2Uo8oSTBzPH"
      },
      "id": "H2Uo8oSTBzPH",
      "execution_count": null,
      "outputs": []
    },
    {
      "cell_type": "markdown",
      "id": "19858f84",
      "metadata": {
        "papermill": {
          "duration": 0.059589,
          "end_time": "2023-11-28T11:30:44.683083",
          "exception": false,
          "start_time": "2023-11-28T11:30:44.623494",
          "status": "completed"
        },
        "tags": [],
        "id": "19858f84"
      },
      "source": [
        "### Training model\n"
      ]
    },
    {
      "cell_type": "code",
      "source": [
        "# Using Adam optimizer with a learning rate of 2e-4\n",
        "optimizer = Adam(model.parameters(), lr=2e-4)\n",
        "\n",
        "# Defining the number of epochs\n",
        "epochs = 3\n",
        "\n",
        "def calculate_batches(total, batch_size):\n",
        "    return total // batch_size if total % batch_size == 0 else total // batch_size + 1\n",
        "\n",
        "# Calculate the number of batches for training and testing datasets\n",
        "train_batches = calculate_batches(dl_train.shape[0], batch_size)\n",
        "test_batches = calculate_batches(dl_test.shape[0], batch_size)\n",
        "\n",
        "model.train()\n",
        "training_loss = 0\n",
        "training_accuracy = 0\n",
        "\n",
        "# Training loop\n",
        "for epoch in range(epochs):\n",
        "    for inputs, labels in dl_train:\n",
        "        optimizer.zero_grad()\n",
        "\n",
        "        # Forward pass\n",
        "        outputs = model(inputs, labels=labels)\n",
        "\n",
        "        # Loss computation\n",
        "        current_loss = outputs.loss\n",
        "        training_loss += current_loss.item()\n",
        "\n",
        "        # Accuracy computation\n",
        "        logits = outputs.logits\n",
        "        predictions = torch.argmax(torch.softmax(logits, dim=2), dim=2)\n",
        "        accuracy = torch.sum(labels == predictions).item() / (labels.shape[0] * labels.shape[1])\n",
        "        training_accuracy += accuracy\n",
        "\n",
        "        # Backpropagation\n",
        "        current_loss.backward()\n",
        "        optimizer.step()\n",
        "\n",
        "    print(f\"Epoch {epoch + 1}/{epochs}: Loss={training_loss/train_batches:.4f} Accuracy={training_accuracy/train_batches:.4f}\")\n",
        "\n",
        "    model.eval()\n",
        "    testing_loss = 0\n",
        "    testing_accuracy = 0\n",
        "\n",
        "    # Testing loop\n",
        "    with torch.no_grad():\n",
        "        for inputs, labels in dl_test:\n",
        "            # Forward pass\n",
        "            outputs = model(inputs, labels=labels)\n",
        "\n",
        "            # Loss computation\n",
        "            current_loss = outputs.loss\n",
        "            testing_loss += current_loss.item()\n",
        "\n",
        "            # Accuracy computation\n",
        "            logits = outputs.logits\n",
        "            predictions = torch.argmax(torch.softmax(logits, dim=2), dim=2)\n",
        "            accuracy = torch.sum(labels == predictions).item() / (labels.shape[0] * labels.shape[1])\n",
        "            testing_accuracy += accuracy\n",
        "\n",
        "    print(f\"Testing: Loss={testing_loss/test_batches:.4f} Accuracy={testing_accuracy/test_batches:.4f}\")\n"
      ],
      "metadata": {
        "colab": {
          "base_uri": "https://localhost:8080/"
        },
        "id": "TJxIewJWz1XI",
        "outputId": "85cf8f14-b9b4-47fb-eb16-94011164f5b3"
      },
      "id": "TJxIewJWz1XI",
      "execution_count": 47,
      "outputs": [
        {
          "output_type": "stream",
          "name": "stdout",
          "text": [
            "Epoch 1/3: Loss=1.2154 Accuracy=0.7956\n",
            "Testing: Loss=0.8033 Accuracy=0.8390\n",
            "Epoch 2/3: Loss=0.9356 Accuracy=0.8191\n",
            "Testing: Loss=0.7253 Accuracy=0.8462\n",
            "Epoch 3/3: Loss=0.6454 Accuracy=0.8552\n",
            "Testing: Loss=0.6711 Accuracy=0.8540\n"
          ]
        }
      ]
    },
    {
      "cell_type": "code",
      "source": [
        "import matplotlib.pyplot as plt\n",
        "data1 = [1.2154, 0.9356, 0.6454]\n",
        "data2 = [0.8033, 0.7253, 0.6711]\n",
        "plt.plot(data1, label='Line 1')\n",
        "\n",
        "# Plot the second line\n",
        "plt.plot(data2, label='Line 2')\n",
        "\n",
        "# Add labels and title\n",
        "plt.xlabel('Epochs')\n",
        "plt.ylabel('Loss')\n",
        "plt.title('loss')\n",
        "plt.legend(['Train loss', 'Testing loss'])\n",
        "\n",
        "# Show the plot\n",
        "plt.show()"
      ],
      "metadata": {
        "colab": {
          "base_uri": "https://localhost:8080/",
          "height": 472
        },
        "id": "9NVHxL_Dn0f4",
        "outputId": "0bd51e41-a0c0-4fba-eea3-e53825158755"
      },
      "id": "9NVHxL_Dn0f4",
      "execution_count": 9,
      "outputs": [
        {
          "output_type": "display_data",
          "data": {
            "text/plain": [
              "<Figure size 640x480 with 1 Axes>"
            ],
            "image/png": "[encoded data removed]"
          },
          "metadata": {}
        }
      ]
    },
    {
      "cell_type": "code",
      "source": [
        "import matplotlib.pyplot as plt\n",
        "data = [1.2154, 0.9356, 0.6454]\n",
        "plt.plot(data)\n",
        "\n",
        "# Add labels and title\n",
        "plt.xlabel('Epochs')\n",
        "plt.ylabel('Loss')\n",
        "plt.title('Training loss')\n",
        "\n",
        "# Show the plot\n",
        "plt.show()"
      ],
      "metadata": {
        "id": "92olYeV4oK8H"
      },
      "id": "92olYeV4oK8H",
      "execution_count": null,
      "outputs": []
    },
    {
      "cell_type": "code",
      "source": [
        "path1 = '/content/drive/My Drive/model_n1.pth'"
      ],
      "metadata": {
        "id": "OHUNlFU4r1ni"
      },
      "id": "OHUNlFU4r1ni",
      "execution_count": 38,
      "outputs": []
    },
    {
      "cell_type": "code",
      "source": [
        "torch.save({\n",
        "            'model_state_dict': model.state_dict(),\n",
        "            'optimizer_state_dict': optimizer.state_dict()\n",
        "        }, path1)\n"
      ],
      "metadata": {
        "id": "sOUwpg1wroNi"
      },
      "id": "sOUwpg1wroNi",
      "execution_count": 40,
      "outputs": []
    },
    {
      "cell_type": "markdown",
      "id": "90b322ce",
      "metadata": {
        "papermill": {
          "duration": 0.173254,
          "end_time": "2023-11-28T11:51:26.580995",
          "exception": false,
          "start_time": "2023-11-28T11:51:26.407741",
          "status": "completed"
        },
        "tags": [],
        "id": "90b322ce"
      },
      "source": [
        "### Final Predictions"
      ]
    },
    {
      "cell_type": "code",
      "execution_count": 17,
      "id": "0fcdd3c1",
      "metadata": {
        "execution": {
          "iopub.execute_input": "2023-11-28T11:51:26.948817Z",
          "iopub.status.busy": "2023-11-28T11:51:26.947557Z",
          "iopub.status.idle": "2023-11-28T11:51:26.955645Z",
          "shell.execute_reply": "2023-11-28T11:51:26.954779Z"
        },
        "papermill": {
          "duration": 0.190163,
          "end_time": "2023-11-28T11:51:26.957828",
          "exception": false,
          "start_time": "2023-11-28T11:51:26.767665",
          "status": "completed"
        },
        "tags": [],
        "id": "0fcdd3c1"
      },
      "outputs": [],
      "source": [
        "import torch\n",
        "\n",
        "def generate_keywords(input, model, tokenizer):\n",
        "    input = tokenizer(input, max_length=1000, padding='max_length', truncation=True,  return_tensors='pt')['input_ids']\n",
        "    input = input.to(device)\n",
        "    input = model.generate(input, min_length=20, max_length=120)\n",
        "    output = tokenizer.batch_decode(input, skip_special_tokens=True)\n",
        "    return output\n"
      ]
    },
    {
      "cell_type": "code",
      "source": [
        "for i in range(4):\n",
        "    print(\"Transcription :\", dataframe['transcription'].iloc[i])\n",
        "    print(\"Keywords :\", dataframe['keywords'].iloc[i])\n",
        "    print(\"Result :\", generate_keywords(dataframe['transcription'].iloc[i], model, tokenizer))\n",
        "    print(\"=\"*80)"
      ],
      "metadata": {
        "colab": {
          "base_uri": "https://localhost:8080/"
        },
        "id": "nBJ2YVbA-N9V",
        "outputId": "8f702270-9b69-4da1-fdbc-f77f09cc9c7d"
      },
      "id": "nBJ2YVbA-N9V",
      "execution_count": 44,
      "outputs": [
        {
          "output_type": "stream",
          "name": "stdout",
          "text": [
            "Transcription : TITLE OF OPERATION: , Phacoemulsification with posterior chamber intraocular lens implant in the right eye.,INDICATION FOR SURGERY: , The patient is a 27-year-old male who sustained an open globe injury as a child.  He subsequently developed a retinal detachment in 2005 and now has silicone oil in the anterior chamber of the right eye as well as a dense cataract.  He is undergoing silicone oil removal as well as concurrent cataract extraction with lens implant in the right eye.,PREOP DIAGNOSIS:,1.  History of open globe to the right eye.,2.  History of retinal detachment status post repair in the right eye.,3.  Silicone oil in anterior chamber.,4.  Dense silicone oil cataract in the right eye obscuring the view of the posterior pole.,POSTOP DIAGNOSIS:,1.  History of open globe to the right eye.,2.  History of retinal detachment status post repair in the right eye.,3.  Silicone oil in anterior chamber.,4.  Dense silicone oil cataract in the right eye obscuring the view of the posterior pole.,ANESTHESIA: , General.,PROS DEV IMPLANT: , ABC Laboratories posterior chamber intraocular lens, 21.0 diopters, serial number 123456.,NARRATIVE: , Informed consent was obtained.  All questions were answered.  The patient was brought to preoperative holding area where the operative right eye was marked.  He was brought to the operating room and placed in the supine position.  EKG leads were placed.  General anesthesia was induced by the anesthesia service.  A time-out was called to confirm the procedure and operative eye.  The right operative eye was disinfected and draped in a standard fashion for eye surgery.  A lid speculum was placed.  The vitreoretinal team placed the infusion cannula after performing a peritomy.  At this point in the case, the patient was turned over to the cornea service with Mrs. Jun.  A paracentesis was made at the approximately 3 o'clock position.  Healon was placed into the anterior chamber.  The diamond keratome was used to make a vertical groove incision just inside the limbus at the 108-degree axis.  This incision was then shelved anteriorly and used to enter the anterior chamber.  The Utrata forceps were used to complete a continuous circular capsulorrhexis after incision of the capsule with the cystotome.  Hydrodissection was performed.  The lens nucleus was removed using phacoemulsification and irrigation and aspiration.  Lens cortex also was removed using irrigation and aspiration.  Viscoelastic was placed to inflate the capsular remnant.  The diamond knife was used to enlarge the phaco incision.  Intraocular lens was selected from preoperative calculations, placed in the injector system, and inserted into the capsule without difficulty.  The trailing haptic was placed using the Sheets forceps and the Barraquer sweep to push the IOL optic posteriorly as the trailing haptic was placed.  The anterior cornea wound was sutured along with the paracentesis after irrigation and aspiration was performed to remove remaining viscoelastic from the anterior chamber.  This was done without difficulty.  The anterior chamber was secured and watertight at the end of the procedure.  Intraocular pressure was satisfactory.  The patient tolerated the procedure well and then was turned over to the retina service in good condition.  They will dictate a separate note.\n",
            "Keywords : surgery, phacoemulsification, intraocular lens implant, posterior chamber, chamber, eye, intraocular, lens,\n",
            "Result : surgery, phacoemulsification, posterior chamber intraocular lens implant, intraocular, viscoelastic, anterior chamber, chamber, posterior, chamberNOTE,: Thesetranscribed medical transcription sample reports and examples are provided by various users andare for reference purpose only. MTHelpLine does not certify accuracy and quality of sample reports;this would be due to the preference of the dictating physician. All names and dates have beenchanged (or removed)\n",
            "================================================================================\n",
            "Transcription : PROCEDURE: , Laparoscopy with ablation of endometriosis.,DIAGNOSIS: , Endometriosis.,ANESTHESIA:,  General.,ESTIMATED BLOOD LOSS: , None.,FINDINGS: , Allen-Masters window in the upper left portion of the cul-de-sac, bronze lesions of endometriosis in the central portion of the cul-de-sac as well as both the left uterosacral ligament, flame lesions of the right uterosacral ligament approximately 5 mL of blood tinged fluid in the cul-de-sac.  Normal tubes and ovaries, normal gallbladder, smooth liver edge.,PROCEDURE:  ,The patient was taken to the operating room and placed under general anesthesia.  She was put in the dorsal lithotomy position, and the perineum and abdomen were prepped and draped in a sterile manner.  Subumbilical area was injected with Marcaine, and a Veress needle was placed subumbilically through which approximately 2 L of CO2 were inflated.  Scalpel was used to make a subumbilical incision through which a 5-mm trocar was placed.  Laparoscope was inserted through the cannula and the pelvis was visualized.  Under direct visualization, two 5-mm trocars were placed in the right and left suprapubic midline.  Incision sites were transilluminated and injected with Marcaine prior to cutting.  Hulka manipulator was placed on the cervix.  Pelvis was inspected and blood tinged fluid was aspirated from the cul-de-sac.  The beginnings of an Allen-Masters window in the left side of the cul-de-sac were visualized along with bronze lesions of endometriosis.  Some more lesions were noted above the left uterosacral ligament.  Flame lesions were noted above the right uterosacral ligament.  Tubes and ovaries were normal bilaterally with the presence of a few small paratubal cysts on the left tube.  There was a somewhat leathery appearance to the ovaries.  The lesions of endometriosis were ablated with the argon beam coagulator, as was a region of the Allen-Masters window.  Pelvis was irrigated and all operative sites were hemostatic.  No other abnormalities were visualized and all instruments were moved under direct visualization.  Approximately 200 mL of fluid remained in the abdominal cavity.  All counts were correct and the skin incisions were closed with 2-0 Vicryl after all CO2 was allowed to escape.  The patient was taken to the recovery in stable condition.\n",
            "Keywords : obstetrics / gynecology, ablation of endometriosis, allen-masters window, uterosacral ligament, endometriosis, cul de sac, laparoscopy, lesions, ablation\n",
            "Result : surgery, ablation with ablation, endometriosis, cul-de-sac, laparoscopy with ablatio, hulka manipulator, cul de cul de sac, uterosacral ligament, cul e cul de capler, aoceum and abdomen, aapleroscope, ablatubal cysts, cul a cauterization, cule ca, abdominal cavity, cul De cca, abdomen,\n",
            "================================================================================\n",
            "Transcription : CHILD PHYSICAL EXAMINATION,VITAL SIGNS:  Birth weight is ** grams, length **, occipitofrontal circumference **.  Character of cry was lusty.,GENERAL APPEARANCE:  Well.,BREATHING:  Unlabored.,SKIN:  Clear.  No cyanosis, pallor, or icterus.  Subcutaneous tissue is ample.,HEAD:  Normal.  Fontanelles are soft and flat.  Sutures are opposed.,EYES:  Normal with red reflex x2.,EARS:  Patent.  Normal pinnae, canals, TMs.,NOSE:  Patent nares.,MOUTH:  No cleft.,THROAT:  Clear.,NECK:  No masses.,CHEST:  Normal clavicles.,LUNGS:  Clear bilaterally.,HEART:  Regular rate and rhythm without murmur.,ABDOMEN:  Soft, flat.  No hepatosplenomegaly.  The cord is three vessel.,GENITALIA:  Normal ** genitalia **with testes descended bilaterally.,ANUS:  Patent.,SPINE:  Straight and without deformity.,EXTREMITIES:  Equal movements.,MUSCLE TONE:  Good.,REFLEXES:  Moro, grasp, and suck are normal.,HIPS:  No click or clunk.\n",
            "Keywords : office notes, child physical examination, physical, genitalia, child, \n",
            "Result : surgery, ablation with ablation, endometriosis, cul-de-sac, laparoscopy with ablatio, hulka manipulator, cul de cul de sac, uterosacral ligament, cul e cul de capler, aoceum and abdomen, aapleroscope, ablatubal cysts, cul a cauterization, cule ca, abdominal cavity, cul De cca, abdomen,\n",
            "================================================================================\n",
            "Transcription : PREOPERATIVE DIAGNOSES:,1.  Ischemic cardiomyopathy.,2.  Status post redo coronary artery bypass.,3.  Status post insertion of intraaortic balloon.,POSTOPERATIVE DIAGNOSES:,1.  Ischemic cardiomyopathy.,2.  Status post redo coronary artery bypass.,3.  Status post insertion of intraaortic balloon.,4.  Postoperative coagulopathy.,OPERATIVE PROCEDURE:,1.  Orthostatic cardiac allograft transplantation utilizing total cardiopulmonary bypass.,2.  Open sternotomy covered with Ioban.,3.  Insertion of Mahurkar catheter for hemofiltration via the left common femoral vein.,ANESTHESIA: , General endotracheal.,OPERATIVE PROCEDURE: , With the patient in the supine position, he was prepped from shin to knees and draped in a sterile field.  A right common femoral artery vein were then exposed through a longitudinal incision in the right groin and prepared for cardiopulmonary bypass.  A sternotomy incision was then opened and the lesions from the previous operative procedures were lysed and they were very dense and firm, freeing up the right atrium and the ascending aorta and anterior right ventricle.  The patient was heparinized and then a pursestring suture was placed in the right atrium superior and inferior just above the superior and inferior vena cava.  A percutaneous catheter for arterial return was placed using Seldinger technique through exposed right femoral artery and then two 3-mm catheters were inserted with two pursestring sutures in the right atrium just superior to inferior vena cava.  After satisfactory heparinization has been obtained, the patient was placed on cardiopulmonary bypass and another pursestring suture was placed in the right superior pulmonary vein and a catheter was placed for suction in the left atrium.  After the heart was brought to the operating room and triggered, the patient had the ascending aorta clamped and tapes were placed around superior and inferior vena cava and were secured in place.  A cardiectomy was then performed by starting in the right atrium.  The wires from the pacemaker and defibrillator were transected coming from the superior vena cava and the Swan-Ganz catheter was brought out into the operative field.  Cardiectomy was then performed, first resecting the anterior portion of the right atrium and then transecting the aorta, the pulmonary artery, the septum between the right and left atriums, and then the heart was removed.  The right and left atrium, aorta, and pulmonary artery were prepared for the transplant.  First, we did a side-to-side anastomosis, continued to the left atrium and this was performed using 3-0 Prolene suture and a right atrial anastomosis side-to-side was performed using 3-0 Prolene suture.  The pulmonary artery was then anastomosed using 5-0 Prolene and the aorta was anastomosed with 4-0 Prolene.  The arterial anastomosis in the pulmonary artery and aorta were not completed until the heart was filled with blood.  Air was evacuated and the sutures were tied down.  The clamp on the ascending aorta was removed and the patient was gradually overtime weaned from cardiopulmonary bypass.  The patient had a postoperative coagulopathy which prolonged the period of time in the operating room after completion and weaning off of the cardiopulmonary bypass.  Blood factors and factor VII were given to try and correct the coagulopathy.  Because of excessive transfusions that were required, a Mahurkar catheter was inserted through the left common femoral vein, first placing a needle into the vein and then guidewire removed, and the needle dilators were then placed and then the Mahurkar catheter was then placed with 2-0 nylon suture.  Hemofiltration was started in the operating room at this time.  After he had satisfactory hemostasis, we decided to do the chest open and cover it with Ioban, which we did, and one chest tube was inserted into the mediastinum through a separate stab wound.  The patient also had an intraaortic balloon for counterpulsation which had been inserted into the left subclavian vein preoperatively.  This was left in place and the pulse generation, the pacemaker was in a right infraclavicular position, which was left in place because of the coagulopathy.  The patient received 11 units of packed red blood cells, 7 platelets, 23 fresh-frozen plasma, 20 cryoprecipitates, and factor VII.  Urine output for the procedure was 520 mL.  The preservation time of the heart is in the anesthesia sheet.  The estimated blood loss was at least 6 L.  The patient was taken to the intensive care unit in guarded condition.\n",
            "Keywords : surgery, cardiomyopathy, ioban, ischemic, ischemic cardiomyopathy, mahurkar catheter, orthostatic, seldinger, swan-ganz, allograft, aorta, balloon, cardiac, cardiopulmonary bypass, catheter, coagulopathy, coronary artery bypass, femoral vein, hemofiltration, intraaortic, intraaortic balloon, sternotomy, transplantation, ventricle, inferior vena cava, cardiac allograft, common femoral, vena cava, pulmonary artery, atrium, insertion, cardiopulmonary, artery\n",
            "Result : surgery, ischemic cardiomyopathy, coronary artery bypass, cardiopulmonary balloon, intraaortic balloon, running sternotomy incision, common femoral vein, ascending aorta, descending vena cava, descending descending, vena, cavaNOTE,: Thesetranscribed medical transcription sample reports and examples are provided by various users andare for reference purpose only. MTHelpLine does not certify accuracy and quality of sample reports\n",
            "================================================================================\n",
            "\n"
          ]
        }
      ]
    },
    {
      "cell_type": "code",
      "source": [
        "from nltk.translate.bleu_score import corpus_bleu\n",
        "from nltk.translate.bleu_score import SmoothingFunction\n",
        "import nltk\n",
        "\n",
        "# Download NLTK data\n",
        "nltk.download(\"punkt\")\n",
        "\n",
        "def calculate_rouge(reference, candidate):\n",
        "    # Tokenize the sentences\n",
        "    reference = nltk.word_tokenize(reference.lower())\n",
        "    candidate = nltk.word_tokenize(candidate.lower())\n",
        "\n",
        "    # Calculate ROUGE scores\n",
        "    smoothing_function = SmoothingFunction().method1\n",
        "    rouge_scores = corpus_bleu([reference], [candidate], smoothing_function=smoothing_function)\n",
        "\n",
        "    return rouge_scores"
      ],
      "metadata": {
        "colab": {
          "base_uri": "https://localhost:8080/"
        },
        "id": "pvAJtcRdlLU0",
        "outputId": "aa81d468-4ca2-4a5d-c0e6-20cdefb8f0ed"
      },
      "id": "pvAJtcRdlLU0",
      "execution_count": 1,
      "outputs": [
        {
          "output_type": "stream",
          "name": "stderr",
          "text": [
            "[nltk_data] Downloading package punkt to /root/nltk_data...\n",
            "[nltk_data]   Unzipping tokenizers/punkt.zip.\n"
          ]
        }
      ]
    },
    {
      "cell_type": "code",
      "source": [
        "# i = 11\n",
        "# print(df['keywords'].iloc[i])\n",
        "# print(\" \".join(generate_keywords(df['transcription'].iloc[i])))\n",
        "pred = \"surgery, ischemic cardiomyopathy, coronary artery bypass, cardiopulmonary balloon, intraaortic balloon, running sternotomy incision, common femoral vein, ascending aorta, descending vena cava, descending descending, vena, cavaNOTE,: Thesetranscribed medical transcription sample reports and examples are provided by various users andare for reference purpose only. MTHelpLine does not certify accuracy and quality of sample reports\"\n",
        "ground = \"surgery, cardiomyopathy, ioban, ischemic, ischemic cardiomyopathy, mahurkar catheter, orthostatic, seldinger, swan-ganz, allograft, aorta, balloon, cardiac, cardiopulmonary bypass, catheter, coagulopathy, coronary artery bypass, femoral vein, hemofiltration, intraaortic, intraaortic balloon, sternotomy, transplantation, ventricle, inferior vena cava, cardiac allograft, common femoral, vena cava, pulmonary artery, atrium, insertion, cardiopulmonary, artery\"\n",
        "rouge_scores = calculate_rouge(ground, pred)\n",
        "print(\"ROUGE Scores:\", rouge_scores)"
      ],
      "metadata": {
        "colab": {
          "base_uri": "https://localhost:8080/"
        },
        "id": "yCJnujXDlO3l",
        "outputId": "f548b6a8-9429-4552-b749-e2a2f5a27cd2"
      },
      "id": "yCJnujXDlO3l",
      "execution_count": 5,
      "outputs": [
        {
          "output_type": "stream",
          "name": "stdout",
          "text": [
            "ROUGE Scores: 0.1327574366655649983\n"
          ]
        }
      ]
    },
    {
      "cell_type": "code",
      "source": [
        "score = 0\n",
        "for i in range(100):\n",
        "    ground =  dataframe['keywords'].iloc[i]\n",
        "    pred = generate_keywords(dataframe['transcription'].iloc[i], model, tokenizer)\n",
        "    score += calculate_rouge(ground, pred)\n",
        "\n",
        "print(score/100)"
      ],
      "metadata": {
        "colab": {
          "base_uri": "https://localhost:8080/"
        },
        "id": "YjiCrAAxmeAz",
        "outputId": "2e6f8217-ab11-4fc3-c54d-be4600996ad7"
      },
      "id": "YjiCrAAxmeAz",
      "execution_count": 4,
      "outputs": [
        {
          "output_type": "execute_result",
          "data": {
            "text/plain": [
              "0.15275563525544397"
            ]
          },
          "metadata": {},
          "execution_count": 4
        }
      ]
    },
    {
      "cell_type": "code",
      "execution_count": 24,
      "id": "e9a2c108",
      "metadata": {
        "papermill": {
          "duration": 0.179519,
          "end_time": "2023-11-28T11:58:56.733488",
          "exception": false,
          "start_time": "2023-11-28T11:58:56.553969",
          "status": "completed"
        },
        "tags": [],
        "id": "e9a2c108"
      },
      "outputs": [],
      "source": []
    }
  ],
  "metadata": {
    "kaggle": {
      "accelerator": "nvidiaTeslaT4",
      "dataSources": [
        {
          "datasetId": 64826,
          "sourceId": 127612,
          "sourceType": "datasetVersion"
        }
      ],
      "dockerImageVersionId": 30587,
      "isGpuEnabled": true,
      "isInternetEnabled": true,
      "language": "python",
      "sourceType": "notebook"
    },
    "kernelspec": {
      "display_name": "Python 3",
      "name": "python3"
    },
    "language_info": {
      "codemirror_mode": {
        "name": "ipython",
        "version": 3
      },
      "file_extension": ".py",
      "mimetype": "text/x-python",
      "name": "python",
      "nbconvert_exporter": "python",
      "pygments_lexer": "ipython3",
      "version": "3.10.12"
    },
    "papermill": {
      "default_parameters": {},
      "duration": 1737.522797,
      "end_time": "2023-11-28T11:58:59.305759",
      "environment_variables": {},
      "exception": null,
      "input_path": "__notebook__.ipynb",
      "output_path": "__notebook__.ipynb",
      "parameters": {},
      "start_time": "2023-11-28T11:30:01.782962",
      "version": "2.4.0"
    },
    "colab": {
      "provenance": [],
      "gpuType": "T4"
    },
    "accelerator": "GPU"
  },
  "nbformat": 4,
  "nbformat_minor": 5
}