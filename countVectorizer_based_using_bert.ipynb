{
  "nbformat": 4,
  "nbformat_minor": 0,
  "metadata": {
    "colab": {
      "provenance": []
    },
    "kernelspec": {
      "name": "python3",
      "display_name": "Python 3"
    },
    "language_info": {
      "name": "python"
    }
  },
  "cells": [
    {
      "cell_type": "code",
      "source": [
        "import numpy as np\n",
        "import pandas as pd\n",
        "import matplotlib.pyplot as plt\n",
        "import seaborn as sns\n",
        "import torch\n",
        "from torch.optim import Adam\n",
        "from torch.utils.data import Dataset, DataLoader\n",
        "from transformers import BertTokenizer, BertForSequenceClassification, AdamW\n",
        "from transformers import BertModel, BertConfig\n",
        "import torch.nn as nn\n",
        "\n",
        "device = torch.device(\"cuda:0\" if torch.cuda.is_available() else \"cpu\")\n"
      ],
      "metadata": {
        "id": "PPP6dPnvNAF_"
      },
      "execution_count": 1,
      "outputs": []
    },
    {
      "cell_type": "code",
      "execution_count": 2,
      "metadata": {
        "id": "O4ZnVj9cLzPd",
        "colab": {
          "base_uri": "https://localhost:8080/"
        },
        "outputId": "38570596-e1f0-4cb8-eed2-04be631a0fe8"
      },
      "outputs": [
        {
          "output_type": "stream",
          "name": "stdout",
          "text": [
            "Mounted at /content/drive\n"
          ]
        }
      ],
      "source": [
        "from google.colab import drive\n",
        "drive.mount('/content/drive')\n",
        "\n",
        "path = '/content/drive/My Drive/mtsamples.csv'"
      ]
    },
    {
      "cell_type": "code",
      "source": [
        "csv_file_path = path\n",
        "df = pd.read_csv(csv_file_path)"
      ],
      "metadata": {
        "id": "xpnEuTM3MbgG"
      },
      "execution_count": 27,
      "outputs": []
    },
    {
      "cell_type": "code",
      "source": [
        "\n",
        "df.columns"
      ],
      "metadata": {
        "colab": {
          "base_uri": "https://localhost:8080/"
        },
        "id": "SegdRSzuNIAF",
        "outputId": "2fdb0326-4712-458e-d70c-1edea7ef6bd9"
      },
      "execution_count": 28,
      "outputs": [
        {
          "output_type": "execute_result",
          "data": {
            "text/plain": [
              "Index(['Unnamed: 0', 'description', 'medical_specialty', 'sample_name',\n",
              "       'transcription', 'keywords'],\n",
              "      dtype='object')"
            ]
          },
          "metadata": {},
          "execution_count": 28
        }
      ]
    },
    {
      "cell_type": "code",
      "source": [
        "len(df)"
      ],
      "metadata": {
        "colab": {
          "base_uri": "https://localhost:8080/"
        },
        "id": "cADdrN1WYM2h",
        "outputId": "f3a02355-8e1a-4c5f-c82b-8136ccebfa66"
      },
      "execution_count": 29,
      "outputs": [
        {
          "output_type": "execute_result",
          "data": {
            "text/plain": [
              "4999"
            ]
          },
          "metadata": {},
          "execution_count": 29
        }
      ]
    },
    {
      "cell_type": "code",
      "source": [
        "# df = df.dropna(subset=['transcription', 'keywords'])\n",
        "df = df.dropna(subset=['transcription', 'keywords'], how='any')\n",
        "\n",
        "len(df)\n"
      ],
      "metadata": {
        "colab": {
          "base_uri": "https://localhost:8080/"
        },
        "id": "ISPBbyHKYONO",
        "outputId": "a2031742-ad3a-4d12-a308-229a50cf8854"
      },
      "execution_count": 30,
      "outputs": [
        {
          "output_type": "execute_result",
          "data": {
            "text/plain": [
              "3898"
            ]
          },
          "metadata": {},
          "execution_count": 30
        }
      ]
    },
    {
      "cell_type": "code",
      "source": [
        "df.head()"
      ],
      "metadata": {
        "colab": {
          "base_uri": "https://localhost:8080/",
          "height": 310
        },
        "id": "3mw6qnAeN6WR",
        "outputId": "27b438a2-993a-4250-b631-6c53daeee171"
      },
      "execution_count": 31,
      "outputs": [
        {
          "output_type": "execute_result",
          "data": {
            "text/plain": [
              "   Unnamed: 0                                        description  \\\n",
              "0           0   A 23-year-old white female presents with comp...   \n",
              "1           1           Consult for laparoscopic gastric bypass.   \n",
              "2           2           Consult for laparoscopic gastric bypass.   \n",
              "3           3                             2-D M-Mode. Doppler.     \n",
              "4           4                                 2-D Echocardiogram   \n",
              "\n",
              "             medical_specialty                                sample_name  \\\n",
              "0         Allergy / Immunology                         Allergic Rhinitis    \n",
              "1                   Bariatrics   Laparoscopic Gastric Bypass Consult - 2    \n",
              "2                   Bariatrics   Laparoscopic Gastric Bypass Consult - 1    \n",
              "3   Cardiovascular / Pulmonary                    2-D Echocardiogram - 1    \n",
              "4   Cardiovascular / Pulmonary                    2-D Echocardiogram - 2    \n",
              "\n",
              "                                       transcription  \\\n",
              "0  SUBJECTIVE:,  This 23-year-old white female pr...   \n",
              "1  PAST MEDICAL HISTORY:, He has difficulty climb...   \n",
              "2  HISTORY OF PRESENT ILLNESS: , I have seen ABC ...   \n",
              "3  2-D M-MODE: , ,1.  Left atrial enlargement wit...   \n",
              "4  1.  The left ventricular cavity size and wall ...   \n",
              "\n",
              "                                            keywords  \n",
              "0  allergy / immunology, allergic rhinitis, aller...  \n",
              "1  bariatrics, laparoscopic gastric bypass, weigh...  \n",
              "2  bariatrics, laparoscopic gastric bypass, heart...  \n",
              "3  cardiovascular / pulmonary, 2-d m-mode, dopple...  \n",
              "4  cardiovascular / pulmonary, 2-d, doppler, echo...  "
            ],
            "text/html": [
              "\n",
              "  <div id=\"df-deab5584-7f49-486c-8fd4-e7a06e58d335\" class=\"colab-df-container\">\n",
              "    <div>\n",
              "<style scoped>\n",
              "    .dataframe tbody tr th:only-of-type {\n",
              "        vertical-align: middle;\n",
              "    }\n",
              "\n",
              "    .dataframe tbody tr th {\n",
              "        vertical-align: top;\n",
              "    }\n",
              "\n",
              "    .dataframe thead th {\n",
              "        text-align: right;\n",
              "    }\n",
              "</style>\n",
              "<table border=\"1\" class=\"dataframe\">\n",
              "  <thead>\n",
              "    <tr style=\"text-align: right;\">\n",
              "      <th></th>\n",
              "      <th>Unnamed: 0</th>\n",
              "      <th>description</th>\n",
              "      <th>medical_specialty</th>\n",
              "      <th>sample_name</th>\n",
              "      <th>transcription</th>\n",
              "      <th>keywords</th>\n",
              "    </tr>\n",
              "  </thead>\n",
              "  <tbody>\n",
              "    <tr>\n",
              "      <th>0</th>\n",
              "      <td>0</td>\n",
              "      <td>A 23-year-old white female presents with comp...</td>\n",
              "      <td>Allergy / Immunology</td>\n",
              "      <td>Allergic Rhinitis</td>\n",
              "      <td>SUBJECTIVE:,  This 23-year-old white female pr...</td>\n",
              "      <td>allergy / immunology, allergic rhinitis, aller...</td>\n",
              "    </tr>\n",
              "    <tr>\n",
              "      <th>1</th>\n",
              "      <td>1</td>\n",
              "      <td>Consult for laparoscopic gastric bypass.</td>\n",
              "      <td>Bariatrics</td>\n",
              "      <td>Laparoscopic Gastric Bypass Consult - 2</td>\n",
              "      <td>PAST MEDICAL HISTORY:, He has difficulty climb...</td>\n",
              "      <td>bariatrics, laparoscopic gastric bypass, weigh...</td>\n",
              "    </tr>\n",
              "    <tr>\n",
              "      <th>2</th>\n",
              "      <td>2</td>\n",
              "      <td>Consult for laparoscopic gastric bypass.</td>\n",
              "      <td>Bariatrics</td>\n",
              "      <td>Laparoscopic Gastric Bypass Consult - 1</td>\n",
              "      <td>HISTORY OF PRESENT ILLNESS: , I have seen ABC ...</td>\n",
              "      <td>bariatrics, laparoscopic gastric bypass, heart...</td>\n",
              "    </tr>\n",
              "    <tr>\n",
              "      <th>3</th>\n",
              "      <td>3</td>\n",
              "      <td>2-D M-Mode. Doppler.</td>\n",
              "      <td>Cardiovascular / Pulmonary</td>\n",
              "      <td>2-D Echocardiogram - 1</td>\n",
              "      <td>2-D M-MODE: , ,1.  Left atrial enlargement wit...</td>\n",
              "      <td>cardiovascular / pulmonary, 2-d m-mode, dopple...</td>\n",
              "    </tr>\n",
              "    <tr>\n",
              "      <th>4</th>\n",
              "      <td>4</td>\n",
              "      <td>2-D Echocardiogram</td>\n",
              "      <td>Cardiovascular / Pulmonary</td>\n",
              "      <td>2-D Echocardiogram - 2</td>\n",
              "      <td>1.  The left ventricular cavity size and wall ...</td>\n",
              "      <td>cardiovascular / pulmonary, 2-d, doppler, echo...</td>\n",
              "    </tr>\n",
              "  </tbody>\n",
              "</table>\n",
              "</div>\n",
              "    <div class=\"colab-df-buttons\">\n",
              "\n",
              "  <div class=\"colab-df-container\">\n",
              "    <button class=\"colab-df-convert\" onclick=\"convertToInteractive('df-deab5584-7f49-486c-8fd4-e7a06e58d335')\"\n",
              "            title=\"Convert this dataframe to an interactive table.\"\n",
              "            style=\"display:none;\">\n",
              "\n",
              "  <svg xmlns=\"http://www.w3.org/2000/svg\" height=\"24px\" viewBox=\"0 -960 960 960\">\n",
              "    <path d=\"M120-120v-720h720v720H120Zm60-500h600v-160H180v160Zm220 220h160v-160H400v160Zm0 220h160v-160H400v160ZM180-400h160v-160H180v160Zm440 0h160v-160H620v160ZM180-180h160v-160H180v160Zm440 0h160v-160H620v160Z\"/>\n",
              "  </svg>\n",
              "    </button>\n",
              "\n",
              "  <style>\n",
              "    .colab-df-container {\n",
              "      display:flex;\n",
              "      gap: 12px;\n",
              "    }\n",
              "\n",
              "    .colab-df-convert {\n",
              "      background-color: #E8F0FE;\n",
              "      border: none;\n",
              "      border-radius: 50%;\n",
              "      cursor: pointer;\n",
              "      display: none;\n",
              "      fill: #1967D2;\n",
              "      height: 32px;\n",
              "      padding: 0 0 0 0;\n",
              "      width: 32px;\n",
              "    }\n",
              "\n",
              "    .colab-df-convert:hover {\n",
              "      background-color: #E2EBFA;\n",
              "      box-shadow: 0px 1px 2px rgba(60, 64, 67, 0.3), 0px 1px 3px 1px rgba(60, 64, 67, 0.15);\n",
              "      fill: #174EA6;\n",
              "    }\n",
              "\n",
              "    .colab-df-buttons div {\n",
              "      margin-bottom: 4px;\n",
              "    }\n",
              "\n",
              "    [theme=dark] .colab-df-convert {\n",
              "      background-color: #3B4455;\n",
              "      fill: #D2E3FC;\n",
              "    }\n",
              "\n",
              "    [theme=dark] .colab-df-convert:hover {\n",
              "      background-color: #434B5C;\n",
              "      box-shadow: 0px 1px 3px 1px rgba(0, 0, 0, 0.15);\n",
              "      filter: drop-shadow(0px 1px 2px rgba(0, 0, 0, 0.3));\n",
              "      fill: #FFFFFF;\n",
              "    }\n",
              "  </style>\n",
              "\n",
              "    <script>\n",
              "      const buttonEl =\n",
              "        document.querySelector('#df-deab5584-7f49-486c-8fd4-e7a06e58d335 button.colab-df-convert');\n",
              "      buttonEl.style.display =\n",
              "        google.colab.kernel.accessAllowed ? 'block' : 'none';\n",
              "\n",
              "      async function convertToInteractive(key) {\n",
              "        const element = document.querySelector('#df-deab5584-7f49-486c-8fd4-e7a06e58d335');\n",
              "        const dataTable =\n",
              "          await google.colab.kernel.invokeFunction('convertToInteractive',\n",
              "                                                    [key], {});\n",
              "        if (!dataTable) return;\n",
              "\n",
              "        const docLinkHtml = 'Like what you see? Visit the ' +\n",
              "          '<a target=\"_blank\" href=https://colab.research.google.com/notebooks/data_table.ipynb>data table notebook</a>'\n",
              "          + ' to learn more about interactive tables.';\n",
              "        element.innerHTML = '';\n",
              "        dataTable['output_type'] = 'display_data';\n",
              "        await google.colab.output.renderOutput(dataTable, element);\n",
              "        const docLink = document.createElement('div');\n",
              "        docLink.innerHTML = docLinkHtml;\n",
              "        element.appendChild(docLink);\n",
              "      }\n",
              "    </script>\n",
              "  </div>\n",
              "\n",
              "\n",
              "<div id=\"df-0327ea0e-af5c-48df-ba6d-8fed2b557700\">\n",
              "  <button class=\"colab-df-quickchart\" onclick=\"quickchart('df-0327ea0e-af5c-48df-ba6d-8fed2b557700')\"\n",
              "            title=\"Suggest charts\"\n",
              "            style=\"display:none;\">\n",
              "\n",
              "<svg xmlns=\"http://www.w3.org/2000/svg\" height=\"24px\"viewBox=\"0 0 24 24\"\n",
              "     width=\"24px\">\n",
              "    <g>\n",
              "        <path d=\"M19 3H5c-1.1 0-2 .9-2 2v14c0 1.1.9 2 2 2h14c1.1 0 2-.9 2-2V5c0-1.1-.9-2-2-2zM9 17H7v-7h2v7zm4 0h-2V7h2v10zm4 0h-2v-4h2v4z\"/>\n",
              "    </g>\n",
              "</svg>\n",
              "  </button>\n",
              "\n",
              "<style>\n",
              "  .colab-df-quickchart {\n",
              "      --bg-color: #E8F0FE;\n",
              "      --fill-color: #1967D2;\n",
              "      --hover-bg-color: #E2EBFA;\n",
              "      --hover-fill-color: #174EA6;\n",
              "      --disabled-fill-color: #AAA;\n",
              "      --disabled-bg-color: #DDD;\n",
              "  }\n",
              "\n",
              "  [theme=dark] .colab-df-quickchart {\n",
              "      --bg-color: #3B4455;\n",
              "      --fill-color: #D2E3FC;\n",
              "      --hover-bg-color: #434B5C;\n",
              "      --hover-fill-color: #FFFFFF;\n",
              "      --disabled-bg-color: #3B4455;\n",
              "      --disabled-fill-color: #666;\n",
              "  }\n",
              "\n",
              "  .colab-df-quickchart {\n",
              "    background-color: var(--bg-color);\n",
              "    border: none;\n",
              "    border-radius: 50%;\n",
              "    cursor: pointer;\n",
              "    display: none;\n",
              "    fill: var(--fill-color);\n",
              "    height: 32px;\n",
              "    padding: 0;\n",
              "    width: 32px;\n",
              "  }\n",
              "\n",
              "  .colab-df-quickchart:hover {\n",
              "    background-color: var(--hover-bg-color);\n",
              "    box-shadow: 0 1px 2px rgba(60, 64, 67, 0.3), 0 1px 3px 1px rgba(60, 64, 67, 0.15);\n",
              "    fill: var(--button-hover-fill-color);\n",
              "  }\n",
              "\n",
              "  .colab-df-quickchart-complete:disabled,\n",
              "  .colab-df-quickchart-complete:disabled:hover {\n",
              "    background-color: var(--disabled-bg-color);\n",
              "    fill: var(--disabled-fill-color);\n",
              "    box-shadow: none;\n",
              "  }\n",
              "\n",
              "  .colab-df-spinner {\n",
              "    border: 2px solid var(--fill-color);\n",
              "    border-color: transparent;\n",
              "    border-bottom-color: var(--fill-color);\n",
              "    animation:\n",
              "      spin 1s steps(1) infinite;\n",
              "  }\n",
              "\n",
              "  @keyframes spin {\n",
              "    0% {\n",
              "      border-color: transparent;\n",
              "      border-bottom-color: var(--fill-color);\n",
              "      border-left-color: var(--fill-color);\n",
              "    }\n",
              "    20% {\n",
              "      border-color: transparent;\n",
              "      border-left-color: var(--fill-color);\n",
              "      border-top-color: var(--fill-color);\n",
              "    }\n",
              "    30% {\n",
              "      border-color: transparent;\n",
              "      border-left-color: var(--fill-color);\n",
              "      border-top-color: var(--fill-color);\n",
              "      border-right-color: var(--fill-color);\n",
              "    }\n",
              "    40% {\n",
              "      border-color: transparent;\n",
              "      border-right-color: var(--fill-color);\n",
              "      border-top-color: var(--fill-color);\n",
              "    }\n",
              "    60% {\n",
              "      border-color: transparent;\n",
              "      border-right-color: var(--fill-color);\n",
              "    }\n",
              "    80% {\n",
              "      border-color: transparent;\n",
              "      border-right-color: var(--fill-color);\n",
              "      border-bottom-color: var(--fill-color);\n",
              "    }\n",
              "    90% {\n",
              "      border-color: transparent;\n",
              "      border-bottom-color: var(--fill-color);\n",
              "    }\n",
              "  }\n",
              "</style>\n",
              "\n",
              "  <script>\n",
              "    async function quickchart(key) {\n",
              "      const quickchartButtonEl =\n",
              "        document.querySelector('#' + key + ' button');\n",
              "      quickchartButtonEl.disabled = true;  // To prevent multiple clicks.\n",
              "      quickchartButtonEl.classList.add('colab-df-spinner');\n",
              "      try {\n",
              "        const charts = await google.colab.kernel.invokeFunction(\n",
              "            'suggestCharts', [key], {});\n",
              "      } catch (error) {\n",
              "        console.error('Error during call to suggestCharts:', error);\n",
              "      }\n",
              "      quickchartButtonEl.classList.remove('colab-df-spinner');\n",
              "      quickchartButtonEl.classList.add('colab-df-quickchart-complete');\n",
              "    }\n",
              "    (() => {\n",
              "      let quickchartButtonEl =\n",
              "        document.querySelector('#df-0327ea0e-af5c-48df-ba6d-8fed2b557700 button');\n",
              "      quickchartButtonEl.style.display =\n",
              "        google.colab.kernel.accessAllowed ? 'block' : 'none';\n",
              "    })();\n",
              "  </script>\n",
              "</div>\n",
              "\n",
              "    </div>\n",
              "  </div>\n"
            ]
          },
          "metadata": {},
          "execution_count": 31
        }
      ]
    },
    {
      "cell_type": "code",
      "source": [
        "import string,time\n",
        "string.punctuation\n",
        "\n",
        "punctuations = string.punctuation\n",
        "punctuations += \"“”•™-_0123456789—*\"\n",
        "# {'ê', '2', '9', '8', 'ï', 'è', 'τ', '7', '•', 'â', 'α', '™', 'ε', '’', 'î', '3', 'ô', '0', '6', '4', '—', 'ὲ', 'μ', 'ὸ', 'ç', '1', 'æ', 'π', '‘', 'à', '5', 'é', '†', 'œ', 'ρ', 'δ', '–'}\n",
        "# print(punctuations)\n",
        "# def remove_punctuation(text):\n",
        "#     for char in punctuations:\n",
        "#         text = text.replace(char,'')\n",
        "#     return text\n",
        "\n",
        "# def replace_values(text):\n",
        "#     text = text.replace('.,', ' ')\n",
        "#     punctuation_to_replace = '-'\n",
        "#     for char in punctuation_to_replace:\n",
        "#         text = text.replace(char, ' ')\n",
        "#     return text\n",
        "\n",
        "def remove_punctuation(text):\n",
        "    punctuations = string.punctuation\n",
        "    # punctuations = punctuations.replace('.', '')\n",
        "    # punctuations = punctuations.replace(',', '')\n",
        "    for char in punctuations:\n",
        "        text = text.replace(char, '')\n",
        "    return text\n",
        "\n",
        "\n",
        "def remove_tags(text):\n",
        "    # if pd.isnull(text):\n",
        "    #     return text\n",
        "    # else:\n",
        "    #     return text.strip().split('\\n')\n",
        "    return text.strip().split('\\n')\n"
      ],
      "metadata": {
        "id": "gp5gPQw2OE6U"
      },
      "execution_count": 32,
      "outputs": []
    },
    {
      "cell_type": "code",
      "source": [
        "# df['transcription'] = df['transcription'].apply(replace_values)\n",
        "# df['keywords'] = df['keywords'].apply(replace_values)\n",
        "# print(df['transcription'].iloc[0])\n",
        "\n",
        "df['transcription'] = df['transcription'].apply(remove_punctuation)\n",
        "df['keywords'] = df['keywords'].apply(remove_punctuation)\n",
        "print(df['transcription'].iloc[0])\n",
        "\n",
        "df['transcription'] = df['transcription'].apply(remove_tags)\n",
        "df['keywords'] = df['keywords'].apply(remove_tags)\n",
        "print(df['transcription'].iloc[0])\n",
        "\n",
        "df['transcription'] = df['transcription'].apply(lambda x: x[0].lower())\n",
        "df['keywords'] = df['keywords'].apply(lambda x: x[0].lower())\n",
        "print(df['transcription'].iloc[0])"
      ],
      "metadata": {
        "colab": {
          "base_uri": "https://localhost:8080/"
        },
        "id": "T3FV2eeIVTqY",
        "outputId": "ed51ce85-f1fe-4c88-a617-21d7165fb213"
      },
      "execution_count": 33,
      "outputs": [
        {
          "output_type": "stream",
          "name": "stdout",
          "text": [
            "SUBJECTIVE  This 23yearold white female presents with complaint of allergies  She used to have allergies when she lived in Seattle but she thinks they are worse here  In the past she has tried Claritin and Zyrtec  Both worked for short time but then seemed to lose effectiveness  She has used Allegra also  She used that last summer and she began using it again two weeks ago  It does not appear to be working very well  She has used overthecounter sprays but no prescription nasal sprays  She does have asthma but doest not require daily medication for this and does not think it is flaring upMEDICATIONS  Her only medication currently is Ortho TriCyclen and the AllegraALLERGIES  She has no known medicine allergiesOBJECTIVEVitals  Weight was 130 pounds and blood pressure 12478HEENT  Her throat was mildly erythematous without exudate  Nasal mucosa was erythematous and swollen  Only clear drainage was seen  TMs were clearNeck  Supple without adenopathyLungs  ClearASSESSMENT  Allergic rhinitisPLAN1  She will try Zyrtec instead of Allegra again  Another option will be to use loratadine  She does not think she has prescription coverage so that might be cheaper2  Samples of Nasonex two sprays in each nostril given for three weeks  A prescription was written as well\n",
            "['SUBJECTIVE  This 23yearold white female presents with complaint of allergies  She used to have allergies when she lived in Seattle but she thinks they are worse here  In the past she has tried Claritin and Zyrtec  Both worked for short time but then seemed to lose effectiveness  She has used Allegra also  She used that last summer and she began using it again two weeks ago  It does not appear to be working very well  She has used overthecounter sprays but no prescription nasal sprays  She does have asthma but doest not require daily medication for this and does not think it is flaring upMEDICATIONS  Her only medication currently is Ortho TriCyclen and the AllegraALLERGIES  She has no known medicine allergiesOBJECTIVEVitals  Weight was 130 pounds and blood pressure 12478HEENT  Her throat was mildly erythematous without exudate  Nasal mucosa was erythematous and swollen  Only clear drainage was seen  TMs were clearNeck  Supple without adenopathyLungs  ClearASSESSMENT  Allergic rhinitisPLAN1  She will try Zyrtec instead of Allegra again  Another option will be to use loratadine  She does not think she has prescription coverage so that might be cheaper2  Samples of Nasonex two sprays in each nostril given for three weeks  A prescription was written as well']\n",
            "subjective  this 23yearold white female presents with complaint of allergies  she used to have allergies when she lived in seattle but she thinks they are worse here  in the past she has tried claritin and zyrtec  both worked for short time but then seemed to lose effectiveness  she has used allegra also  she used that last summer and she began using it again two weeks ago  it does not appear to be working very well  she has used overthecounter sprays but no prescription nasal sprays  she does have asthma but doest not require daily medication for this and does not think it is flaring upmedications  her only medication currently is ortho tricyclen and the allegraallergies  she has no known medicine allergiesobjectivevitals  weight was 130 pounds and blood pressure 12478heent  her throat was mildly erythematous without exudate  nasal mucosa was erythematous and swollen  only clear drainage was seen  tms were clearneck  supple without adenopathylungs  clearassessment  allergic rhinitisplan1  she will try zyrtec instead of allegra again  another option will be to use loratadine  she does not think she has prescription coverage so that might be cheaper2  samples of nasonex two sprays in each nostril given for three weeks  a prescription was written as well\n"
          ]
        }
      ]
    },
    {
      "cell_type": "code",
      "source": [
        "df['transcription'].iloc[0]"
      ],
      "metadata": {
        "colab": {
          "base_uri": "https://localhost:8080/"
        },
        "id": "7XhXAGjqWbbe",
        "outputId": "087785a9-8dcf-45ac-c7da-5e0a29b0d081"
      },
      "execution_count": 10,
      "outputs": [
        {
          "output_type": "execute_result",
          "data": {
            "text/plain": [
              "['s']"
            ]
          },
          "metadata": {},
          "execution_count": 10
        }
      ]
    },
    {
      "cell_type": "code",
      "source": [
        "len(df)"
      ],
      "metadata": {
        "id": "Ou8q8mPtVsZG",
        "outputId": "c58f9758-dfae-476d-b456-ff39288747ec",
        "colab": {
          "base_uri": "https://localhost:8080/"
        }
      },
      "execution_count": 11,
      "outputs": [
        {
          "output_type": "execute_result",
          "data": {
            "text/plain": [
              "3898"
            ]
          },
          "metadata": {},
          "execution_count": 11
        }
      ]
    },
    {
      "cell_type": "code",
      "source": [
        "word_lengths = []\n",
        "\n",
        "for sent in df['transcription']:\n",
        "    word_lengths.append(len(sent.split()))\n",
        "\n",
        "print(\"Max Length : \", max(word_lengths))\n",
        "print(\"Min Length : \", min(word_lengths))\n",
        "\n",
        "from collections import Counter\n",
        "frequency_map = Counter(word_lengths)\n",
        "\n",
        "# Sort the values and frequencies in ascending order\n",
        "sorted_values, sorted_frequencies = zip(*sorted(frequency_map.items()))\n",
        "\n",
        "# Plotting the sorted frequency map\n",
        "plt.bar(sorted_values, sorted_frequencies, color='blue')\n",
        "\n",
        "# Adding labels and title\n",
        "plt.xlabel('Number')\n",
        "plt.ylabel('Frequency')\n",
        "plt.title('Sorted Frequency Map of Numbers')\n",
        "\n",
        "# Display the plot\n",
        "plt.show()"
      ],
      "metadata": {
        "colab": {
          "base_uri": "https://localhost:8080/",
          "height": 507
        },
        "id": "r8h6fpBxk3Zw",
        "outputId": "6ae6119f-effa-4180-a828-1892f0023930"
      },
      "execution_count": 34,
      "outputs": [
        {
          "output_type": "stream",
          "name": "stdout",
          "text": [
            "Max Length :  2003\n",
            "Min Length :  1\n"
          ]
        },
        {
          "output_type": "display_data",
          "data": {
            "text/plain": [
              "<Figure size 640x480 with 1 Axes>"
            ],
            "image/png": "[encoded data removed]"
          },
          "metadata": {}
        }
      ]
    },
    {
      "cell_type": "code",
      "source": [
        "word_lengths = []\n",
        "\n",
        "for sent in df['keywords']:\n",
        "    word_lengths.append(len(sent.split()))\n",
        "\n",
        "print(\"Max Length : \", max(word_lengths))\n",
        "print(\"Min Length : \", min(word_lengths))\n",
        "\n",
        "from collections import Counter\n",
        "frequency_map = Counter(word_lengths)\n",
        "\n",
        "# Sort the values and frequencies in ascending order\n",
        "sorted_values, sorted_frequencies = zip(*sorted(frequency_map.items()))\n",
        "\n",
        "# Plotting the sorted frequency map\n",
        "plt.bar(sorted_values, sorted_frequencies, color='blue')\n",
        "\n",
        "# Adding labels and title\n",
        "plt.xlabel('Number')\n",
        "plt.ylabel('Frequency')\n",
        "plt.title('Sorted Frequency Map of Numbers')\n",
        "\n",
        "# Display the plot\n",
        "plt.show()"
      ],
      "metadata": {
        "colab": {
          "base_uri": "https://localhost:8080/",
          "height": 507
        },
        "id": "IpsQAnfmVHyR",
        "outputId": "566e49ec-7b70-4c46-ecfb-9fe0e20b4bfd"
      },
      "execution_count": 35,
      "outputs": [
        {
          "output_type": "stream",
          "name": "stdout",
          "text": [
            "Max Length :  118\n",
            "Min Length :  0\n"
          ]
        },
        {
          "output_type": "display_data",
          "data": {
            "text/plain": [
              "<Figure size 640x480 with 1 Axes>"
            ],
            "image/png": "[encoded data removed]"
          },
          "metadata": {}
        }
      ]
    },
    {
      "cell_type": "code",
      "source": [
        "!pip install sentence_transformers -q"
      ],
      "metadata": {
        "colab": {
          "base_uri": "https://localhost:8080/"
        },
        "id": "Oxtk-31RJ1Nc",
        "outputId": "9ebd53e5-440b-42b3-e540-ff245c7c4362"
      },
      "execution_count": 37,
      "outputs": [
        {
          "output_type": "stream",
          "name": "stdout",
          "text": [
            "  Preparing metadata (setup.py) ... \u001b[?25l\u001b[?25hdone\n",
            "  Building wheel for sentence_transformers (setup.py) ... \u001b[?25l\u001b[?25hdone\n"
          ]
        }
      ]
    },
    {
      "cell_type": "code",
      "source": [
        "from sklearn.feature_extraction.text import CountVectorizer\n",
        "from sentence_transformers import SentenceTransformer\n",
        "from sklearn.metrics.pairwise import cosine_similarity\n",
        "from sentence_transformers import SentenceTransformer\n",
        "\n",
        "\n",
        "n_gram_range = (1, 1)\n",
        "stop_words = \"english\"\n",
        "model = SentenceTransformer('distilbert-base-nli-mean-tokens')\n",
        "\n"
      ],
      "metadata": {
        "id": "8RL21fs3Jsya"
      },
      "execution_count": 39,
      "outputs": []
    },
    {
      "cell_type": "code",
      "source": [
        "def generate_keywords(input, top_n = 20):\n",
        "    count = CountVectorizer(ngram_range=n_gram_range, stop_words=stop_words).fit([input])\n",
        "    candidates = count.get_feature_names_out()\n",
        "    doc_embedding = model.encode([input])\n",
        "    candidate_embeddings = model.encode(candidates)\n",
        "    distances = cosine_similarity(doc_embedding, candidate_embeddings)\n",
        "    keywords = [candidates[index] for index in distances.argsort()[0][-top_n:]]\n",
        "    return keywords"
      ],
      "metadata": {
        "id": "Z92DUMNjKIut"
      },
      "execution_count": 43,
      "outputs": []
    },
    {
      "cell_type": "code",
      "source": [
        "for i in range(4):\n",
        "    print(\"Transcription :\", df['transcription'].iloc[i])\n",
        "    print(\"Keywords :\", df['keywords'].iloc[i])\n",
        "    print(\"Result :\", generate_keywords(df['transcription'].iloc[i]))\n",
        "    print(\"=\"*80)"
      ],
      "metadata": {
        "colab": {
          "base_uri": "https://localhost:8080/"
        },
        "id": "hxHhz9n3KoHa",
        "outputId": "14ccbd54-2177-447f-c600-987232dc2589"
      },
      "execution_count": 44,
      "outputs": [
        {
          "output_type": "stream",
          "name": "stdout",
          "text": [
            "Transcription : subjective  this 23yearold white female presents with complaint of allergies  she used to have allergies when she lived in seattle but she thinks they are worse here  in the past she has tried claritin and zyrtec  both worked for short time but then seemed to lose effectiveness  she has used allegra also  she used that last summer and she began using it again two weeks ago  it does not appear to be working very well  she has used overthecounter sprays but no prescription nasal sprays  she does have asthma but doest not require daily medication for this and does not think it is flaring upmedications  her only medication currently is ortho tricyclen and the allegraallergies  she has no known medicine allergiesobjectivevitals  weight was 130 pounds and blood pressure 12478heent  her throat was mildly erythematous without exudate  nasal mucosa was erythematous and swollen  only clear drainage was seen  tms were clearneck  supple without adenopathylungs  clearassessment  allergic rhinitisplan1  she will try zyrtec instead of allegra again  another option will be to use loratadine  she does not think she has prescription coverage so that might be cheaper2  samples of nasonex two sprays in each nostril given for three weeks  a prescription was written as well\n",
            "Keywords : allergy  immunology allergic rhinitis allergies asthma nasal sprays rhinitis nasal erythematous allegra sprays allergic\n",
            "Result : ['prescription', 'lose', 'nostril', 'subjective', 'blood', 'rhinitisplan1', 'cheaper2', 'short', 'seattle', 'erythematous', 'medication', 'summer', 'female', '23yearold', 'allergies', 'allergiesobjectivevitals', 'asthma', 'medicine', 'allergic', 'adenopathylungs']\n",
            "================================================================================\n",
            "Transcription : past medical history he has difficulty climbing stairs difficulty with airline seats tying shoes used to public seating and lifting objects off the floor  he exercises three times a week at home and does cardio  he has difficulty walking two blocks or five flights of stairs  difficulty with snoring  he has muscle and joint pains including knee pain back pain foot and ankle pain and swelling  he has gastroesophageal reflux diseasepast surgical history includes reconstructive surgery on his right hand 13 years ago  social history he is currently single  he has about ten drinks a year  he had smoked significantly up until several months ago  he now smokes less than three cigarettes a dayfamily history heart disease in both grandfathers grandmother with stroke and a grandmother with diabetes  denies obesity and hypertension in other family memberscurrent medications noneallergies  he is allergic to penicillinmiscellaneouseating history he has been going to support groups for seven months with lynn holmberg in greenwich and he is from eastchester new york and he feels that we are the appropriate program  he had a poor experience with the greenwich program  eating history he is not an emotional eater  does not like sweets  he likes big portions and carbohydrates  he likes chicken and not steak  he currently weighs 312 pounds  ideal body weight would be 170 pounds  he is 142 pounds overweight  if he lost 60 of his excess body weight that would be 84 pounds and he should weigh about 228review of systems negative for head neck heart lungs gi gu orthopedic and skin  specifically denies chest pain heart attack coronary artery disease congestive heart failure arrhythmia atrial fibrillation pacemaker high cholesterol pulmonary embolism high blood pressure cva venous insufficiency thrombophlebitis asthma shortness of breath copd emphysema sleep apnea diabetes leg and foot swelling osteoarthritis rheumatoid arthritis hiatal hernia peptic ulcer disease gallstones infected gallbladder pancreatitis fatty liver hepatitis hemorrhoids rectal bleeding polyps incontinence of stool urinary stress incontinence or cancer  denies cellulitis pseudotumor cerebri meningitis or encephalitisphysical examination he is alert and oriented x 3  cranial nerves iixii are intact  afebrile  vital signs are stable\n",
            "Keywords : bariatrics laparoscopic gastric bypass weight loss programs gastric bypass atkins diet weight watchers body weight laparoscopic gastric weight loss pounds months weight laparoscopic band loss diets overweight lost\n",
            "Result : ['steak', 'arrhythmia', 'osteoarthritis', 'hernia', 'gallbladder', 'snoring', 'cholesterol', 'obesity', 'surgery', 'urinary', 'gastroesophageal', 'pancreatitis', 'cancer', 'thrombophlebitis', 'hypertension', 'arthritis', 'hemorrhoids', 'meningitis', 'rheumatoid', 'diabetes']\n",
            "================================================================================\n",
            "Transcription : history of present illness  i have seen abc today  he is a very pleasant gentleman who is 42 years old 344 pounds  he is 59  he has a bmi of 51  he has been overweight for ten years since the age of 33 at his highest he was 358 pounds at his lowest 260  he is pursuing surgical attempts of weight loss to feel good get healthy and begin to exercise again  he wants to be able to exercise and play volleyball  physically he is sluggish  he gets tired quickly  he does not go out often  when he loses weight he always regains it and he gains back more than he lost  his biggest weight loss is 25 pounds and it was three months before he gained it back  he did six months of not drinking alcohol and not taking in many calories  he has been on multiple commercial weight loss programs including slim fast for one month one year ago and atkins diet for one month two years agopast medical history  he has difficulty climbing stairs difficulty with airline seats tying shoes used to public seating difficulty walking high cholesterol and high blood pressure  he has asthma and difficulty walking two blocks or going eight to ten steps  he has sleep apnea and snoring  he is a diabetic on medication  he has joint pain knee pain back pain foot and ankle pain leg and foot swelling  he has hemorrhoidspast surgical history  includes orthopedic or knee surgerysocial history  he is currently single  he drinks alcohol ten to twelve drinks a week but does not drink five days a week and then will binge drink  he smokes one and a half pack a day for 15 years but he has recently stopped smoking for the past two weeksfamily history  obesity heart disease and diabetes  family history is negative for hypertension and strokecurrent medications  include diovan crestor and tricormiscellaneouseating history  he says a couple of friends of his have had heart attacks and have had died  he used to drink everyday but stopped two years ago  he now only drinks on weekends  he is on his second week of chantix which is a medication to come off smoking completely  eating he eats bad food  he is single  he eats things like bacon eggs and cheese cheeseburgers fast food eats four times a day seven in the morning at noon 9 pm and 2 am  he currently weighs 344 pounds and 59  his ideal body weight is 160 pounds  he is 184 pounds overweight  if he lost 70 of his excess body weight that would be 129 pounds and that would get him down to 215review of systems  negative for head neck heart lungs gi gu orthopedic or skin  he also is positive for gout  he denies chest pain heart attack coronary artery disease congestive heart failure arrhythmia atrial fibrillation pacemaker pulmonary embolism or cva  he denies venous insufficiency or thrombophlebitis  denies shortness of breath copd or emphysema  denies thyroid problems hip pain osteoarthritis rheumatoid arthritis gerd hiatal hernia peptic ulcer disease gallstones infected gallbladder pancreatitis fatty liver hepatitis rectal bleeding polyps incontinence of stool urinary stress incontinence or cancer  he denies cellulitis pseudotumor cerebri meningitis or encephalitisphysical examination  he is alert and oriented x 3  cranial nerves iixii are intact  neck is soft and supple  lungs  he has positive wheezing bilaterally  heart is regular rhythm and rate  his abdomen is soft  extremities  he has 1 pitting edemaimpressionplan  i have explained to him the risks and potential complications of laparoscopic gastric bypass in detail and these include bleeding infection deep venous thrombosis pulmonary embolism leakage from the gastrojejunoanastomosis jejunojejunoanastomosis and possible bowel obstruction among other potential complications  he understands  he wants to proceed with workup and evaluation for laparoscopic rouxeny gastric bypass  he will need to get a letter of approval from dr xyz  he will need to see a nutritionist and mental health worker  he will need an upper endoscopy by either dr xyz  he will need to go to dr xyz as he previously had a sleep study  we will need another sleep study  he will need h pylori testing thyroid function tests lfts glycosylated hemoglobin and fasting blood sugar  after this is performed we will submit him for insurance approval\n",
            "Keywords : bariatrics laparoscopic gastric bypass heart attacks body weight pulmonary embolism potential complications sleep study weight loss gastric bypass anastomosis loss sleep laparoscopic gastric bypass heart pounds weight\n",
            "Result : ['thrombosis', 'surgerysocial', 'gallbladder', 'diabetic', 'pounds', 'pancreatitis', 'thrombophlebitis', 'gastric', 'gastrojejunoanastomosis', 'arthritis', 'hemorrhoidspast', 'cholesterol', 'cancer', 'rheumatoid', 'hypertension', 'diabetes', 'snoring', 'overweight', 'meningitis', 'obesity']\n",
            "================================================================================\n",
            "Transcription : 2d mmode  1  left atrial enlargement with left atrial diameter of 47 cm2  normal size right and left ventricle3  normal lv systolic function with left ventricular ejection fraction of 514  normal lv diastolic function5  no pericardial effusion6  normal morphology of aortic valve mitral valve tricuspid valve and pulmonary valve7  pa systolic pressure is 36 mmhgdoppler  1  mild mitral and tricuspid regurgitation2  trace aortic and pulmonary regurgitation\n",
            "Keywords : cardiovascular  pulmonary 2d mmode doppler aortic valve atrial enlargement diastolic function ejection fraction mitral mitral valve pericardial effusion pulmonary valve regurgitation systolic function tricuspid tricuspid valve normal lv\n",
            "Result : ['514', 'regurgitation', 'effusion6', '47', 'cm2', 'mitral', 'systolic', 'valve', 'diameter', 'atrial', 'mmhgdoppler', 'diastolic', 'function5', 'ventricle3', 'regurgitation2', 'valve7', 'pericardial', 'ventricular', 'pulmonary', 'aortic']\n",
            "================================================================================\n"
          ]
        }
      ]
    },
    {
      "cell_type": "code",
      "source": [
        "from nltk.translate.bleu_score import corpus_bleu\n",
        "from nltk.translate.bleu_score import SmoothingFunction\n",
        "import nltk\n",
        "\n",
        "# Download NLTK data\n",
        "nltk.download(\"punkt\")\n",
        "\n",
        "def calculate_rouge(reference, candidate):\n",
        "    # Tokenize the sentences\n",
        "    reference = nltk.word_tokenize(reference.lower())\n",
        "    candidate = nltk.word_tokenize(candidate.lower())\n",
        "\n",
        "    # Calculate ROUGE scores\n",
        "    smoothing_function = SmoothingFunction().method1\n",
        "    rouge_scores = corpus_bleu([reference], [candidate], smoothing_function=smoothing_function)\n",
        "\n",
        "    return rouge_scores"
      ],
      "metadata": {
        "colab": {
          "base_uri": "https://localhost:8080/"
        },
        "id": "PG22-5Q1LFMV",
        "outputId": "894623de-9dec-41c7-a965-63d68a3e9d3b"
      },
      "execution_count": 49,
      "outputs": [
        {
          "output_type": "stream",
          "name": "stderr",
          "text": [
            "[nltk_data] Downloading package punkt to /root/nltk_data...\n",
            "[nltk_data]   Package punkt is already up-to-date!\n"
          ]
        }
      ]
    },
    {
      "cell_type": "code",
      "source": [
        "i = 11\n",
        "print(df['keywords'].iloc[i])\n",
        "print(\" \".join(generate_keywords(df['transcription'].iloc[i])))\n",
        "rouge_scores = calculate_rouge(df['keywords'].iloc[i], \" \".join(generate_keywords(df['transcription'].iloc[i])))\n",
        "print(\"ROUGE Scores:\", rouge_scores)"
      ],
      "metadata": {
        "colab": {
          "base_uri": "https://localhost:8080/"
        },
        "id": "74nVWNBkj3vJ",
        "outputId": "f521b177-238b-43ee-a082-31bef42a247f"
      },
      "execution_count": 57,
      "outputs": [
        {
          "output_type": "stream",
          "name": "stdout",
          "text": [
            "0.11334534565\n"
          ]
        }
      ]
    },
    {
      "cell_type": "code",
      "source": [],
      "metadata": {
        "id": "cuav_1bzkKlx"
      },
      "execution_count": null,
      "outputs": []
    }
  ]
}